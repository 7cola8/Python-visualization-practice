{
 "cells": [
  {
   "cell_type": "code",
   "execution_count": 1,
   "id": "e876232a",
   "metadata": {},
   "outputs": [],
   "source": [
    "import matplotlib.pyplot as plt\n",
    "import numpy as np\n",
    "import pandas as pd\n",
    "plt.rcParams['font.family']='SimHei'\n",
    "plt.rcParams['axes.unicode_minus']=False"
   ]
  },
  {
   "cell_type": "markdown",
   "id": "6277e470",
   "metadata": {},
   "source": [
    "# 读数据"
   ]
  },
  {
   "cell_type": "code",
   "execution_count": 2,
   "id": "6227e52e",
   "metadata": {},
   "outputs": [
    {
     "data": {
      "text/html": [
       "<div>\n",
       "<style scoped>\n",
       "    .dataframe tbody tr th:only-of-type {\n",
       "        vertical-align: middle;\n",
       "    }\n",
       "\n",
       "    .dataframe tbody tr th {\n",
       "        vertical-align: top;\n",
       "    }\n",
       "\n",
       "    .dataframe thead th {\n",
       "        text-align: right;\n",
       "    }\n",
       "</style>\n",
       "<table border=\"1\" class=\"dataframe\">\n",
       "  <thead>\n",
       "    <tr style=\"text-align: right;\">\n",
       "      <th></th>\n",
       "      <th>省</th>\n",
       "      <th>城市</th>\n",
       "      <th>日期</th>\n",
       "      <th>质量等级</th>\n",
       "      <th>AQI指数</th>\n",
       "      <th>当天AQI排名</th>\n",
       "      <th>PM2.5</th>\n",
       "      <th>PM10</th>\n",
       "      <th>So2</th>\n",
       "      <th>No2</th>\n",
       "      <th>Co</th>\n",
       "      <th>O3</th>\n",
       "    </tr>\n",
       "  </thead>\n",
       "  <tbody>\n",
       "    <tr>\n",
       "      <th>0</th>\n",
       "      <td>河北</td>\n",
       "      <td>石家庄</td>\n",
       "      <td>2021-08-01</td>\n",
       "      <td>良</td>\n",
       "      <td>51</td>\n",
       "      <td>277</td>\n",
       "      <td>28</td>\n",
       "      <td>48</td>\n",
       "      <td>3</td>\n",
       "      <td>11</td>\n",
       "      <td>0.72</td>\n",
       "      <td>104</td>\n",
       "    </tr>\n",
       "    <tr>\n",
       "      <th>1</th>\n",
       "      <td>河北</td>\n",
       "      <td>石家庄</td>\n",
       "      <td>2021-08-02</td>\n",
       "      <td>优</td>\n",
       "      <td>41</td>\n",
       "      <td>186</td>\n",
       "      <td>12</td>\n",
       "      <td>35</td>\n",
       "      <td>4</td>\n",
       "      <td>21</td>\n",
       "      <td>0.50</td>\n",
       "      <td>83</td>\n",
       "    </tr>\n",
       "    <tr>\n",
       "      <th>2</th>\n",
       "      <td>河北</td>\n",
       "      <td>石家庄</td>\n",
       "      <td>2021-08-03</td>\n",
       "      <td>优</td>\n",
       "      <td>45</td>\n",
       "      <td>239</td>\n",
       "      <td>20</td>\n",
       "      <td>44</td>\n",
       "      <td>3</td>\n",
       "      <td>21</td>\n",
       "      <td>0.62</td>\n",
       "      <td>91</td>\n",
       "    </tr>\n",
       "    <tr>\n",
       "      <th>3</th>\n",
       "      <td>河北</td>\n",
       "      <td>石家庄</td>\n",
       "      <td>2021-08-04</td>\n",
       "      <td>良</td>\n",
       "      <td>62</td>\n",
       "      <td>344</td>\n",
       "      <td>33</td>\n",
       "      <td>57</td>\n",
       "      <td>4</td>\n",
       "      <td>20</td>\n",
       "      <td>0.87</td>\n",
       "      <td>109</td>\n",
       "    </tr>\n",
       "    <tr>\n",
       "      <th>4</th>\n",
       "      <td>河北</td>\n",
       "      <td>石家庄</td>\n",
       "      <td>2021-08-05</td>\n",
       "      <td>良</td>\n",
       "      <td>80</td>\n",
       "      <td>364</td>\n",
       "      <td>47</td>\n",
       "      <td>87</td>\n",
       "      <td>5</td>\n",
       "      <td>21</td>\n",
       "      <td>1.03</td>\n",
       "      <td>120</td>\n",
       "    </tr>\n",
       "  </tbody>\n",
       "</table>\n",
       "</div>"
      ],
      "text/plain": [
       "    省   城市         日期 质量等级  AQI指数  当天AQI排名  PM2.5  PM10  So2  No2    Co   O3\n",
       "0  河北  石家庄 2021-08-01    良     51      277     28    48    3   11  0.72  104\n",
       "1  河北  石家庄 2021-08-02    优     41      186     12    35    4   21  0.50   83\n",
       "2  河北  石家庄 2021-08-03    优     45      239     20    44    3   21  0.62   91\n",
       "3  河北  石家庄 2021-08-04    良     62      344     33    57    4   20  0.87  109\n",
       "4  河北  石家庄 2021-08-05    良     80      364     47    87    5   21  1.03  120"
      ]
     },
     "execution_count": 2,
     "metadata": {},
     "output_type": "execute_result"
    }
   ],
   "source": [
    "data=pd.read_excel('空气质量.xlsx',\n",
    "                  parse_dates=['日期']#在读数据时就将日期格式转化完成\n",
    "                  )\n",
    "data.head()"
   ]
  },
  {
   "cell_type": "markdown",
   "id": "730d2f6a",
   "metadata": {},
   "source": [
    "# 数据探索(函数牢记）"
   ]
  },
  {
   "cell_type": "markdown",
   "id": "07d9090d",
   "metadata": {},
   "source": [
    "## 统计信息"
   ]
  },
  {
   "cell_type": "code",
   "execution_count": 3,
   "id": "762e9150",
   "metadata": {},
   "outputs": [
    {
     "data": {
      "text/html": [
       "<div>\n",
       "<style scoped>\n",
       "    .dataframe tbody tr th:only-of-type {\n",
       "        vertical-align: middle;\n",
       "    }\n",
       "\n",
       "    .dataframe tbody tr th {\n",
       "        vertical-align: top;\n",
       "    }\n",
       "\n",
       "    .dataframe thead th {\n",
       "        text-align: right;\n",
       "    }\n",
       "</style>\n",
       "<table border=\"1\" class=\"dataframe\">\n",
       "  <thead>\n",
       "    <tr style=\"text-align: right;\">\n",
       "      <th></th>\n",
       "      <th>AQI指数</th>\n",
       "      <th>当天AQI排名</th>\n",
       "      <th>PM2.5</th>\n",
       "      <th>PM10</th>\n",
       "      <th>So2</th>\n",
       "      <th>No2</th>\n",
       "      <th>Co</th>\n",
       "      <th>O3</th>\n",
       "    </tr>\n",
       "  </thead>\n",
       "  <tbody>\n",
       "    <tr>\n",
       "      <th>count</th>\n",
       "      <td>8432.000000</td>\n",
       "      <td>8432.000000</td>\n",
       "      <td>8432.000000</td>\n",
       "      <td>8432.000000</td>\n",
       "      <td>8432.000000</td>\n",
       "      <td>8432.000000</td>\n",
       "      <td>8432.000000</td>\n",
       "      <td>8432.000000</td>\n",
       "    </tr>\n",
       "    <tr>\n",
       "      <th>mean</th>\n",
       "      <td>36.793999</td>\n",
       "      <td>187.338472</td>\n",
       "      <td>17.315702</td>\n",
       "      <td>34.581001</td>\n",
       "      <td>6.958373</td>\n",
       "      <td>15.416509</td>\n",
       "      <td>0.606320</td>\n",
       "      <td>69.915441</td>\n",
       "    </tr>\n",
       "    <tr>\n",
       "      <th>std</th>\n",
       "      <td>18.368070</td>\n",
       "      <td>103.203986</td>\n",
       "      <td>11.476149</td>\n",
       "      <td>29.591058</td>\n",
       "      <td>3.935013</td>\n",
       "      <td>7.428074</td>\n",
       "      <td>0.212071</td>\n",
       "      <td>26.651083</td>\n",
       "    </tr>\n",
       "    <tr>\n",
       "      <th>min</th>\n",
       "      <td>0.000000</td>\n",
       "      <td>1.000000</td>\n",
       "      <td>0.000000</td>\n",
       "      <td>0.000000</td>\n",
       "      <td>0.000000</td>\n",
       "      <td>0.000000</td>\n",
       "      <td>0.000000</td>\n",
       "      <td>0.000000</td>\n",
       "    </tr>\n",
       "    <tr>\n",
       "      <th>25%</th>\n",
       "      <td>25.000000</td>\n",
       "      <td>100.000000</td>\n",
       "      <td>10.000000</td>\n",
       "      <td>21.000000</td>\n",
       "      <td>5.000000</td>\n",
       "      <td>10.000000</td>\n",
       "      <td>0.470000</td>\n",
       "      <td>50.000000</td>\n",
       "    </tr>\n",
       "    <tr>\n",
       "      <th>50%</th>\n",
       "      <td>34.000000</td>\n",
       "      <td>188.000000</td>\n",
       "      <td>15.000000</td>\n",
       "      <td>30.000000</td>\n",
       "      <td>6.000000</td>\n",
       "      <td>14.000000</td>\n",
       "      <td>0.590000</td>\n",
       "      <td>68.000000</td>\n",
       "    </tr>\n",
       "    <tr>\n",
       "      <th>75%</th>\n",
       "      <td>45.000000</td>\n",
       "      <td>276.000000</td>\n",
       "      <td>22.000000</td>\n",
       "      <td>43.000000</td>\n",
       "      <td>8.000000</td>\n",
       "      <td>20.000000</td>\n",
       "      <td>0.710000</td>\n",
       "      <td>89.000000</td>\n",
       "    </tr>\n",
       "    <tr>\n",
       "      <th>max</th>\n",
       "      <td>399.000000</td>\n",
       "      <td>366.000000</td>\n",
       "      <td>391.000000</td>\n",
       "      <td>1284.000000</td>\n",
       "      <td>50.000000</td>\n",
       "      <td>54.000000</td>\n",
       "      <td>2.070000</td>\n",
       "      <td>163.000000</td>\n",
       "    </tr>\n",
       "  </tbody>\n",
       "</table>\n",
       "</div>"
      ],
      "text/plain": [
       "             AQI指数      当天AQI排名        PM2.5         PM10          So2  \\\n",
       "count  8432.000000  8432.000000  8432.000000  8432.000000  8432.000000   \n",
       "mean     36.793999   187.338472    17.315702    34.581001     6.958373   \n",
       "std      18.368070   103.203986    11.476149    29.591058     3.935013   \n",
       "min       0.000000     1.000000     0.000000     0.000000     0.000000   \n",
       "25%      25.000000   100.000000    10.000000    21.000000     5.000000   \n",
       "50%      34.000000   188.000000    15.000000    30.000000     6.000000   \n",
       "75%      45.000000   276.000000    22.000000    43.000000     8.000000   \n",
       "max     399.000000   366.000000   391.000000  1284.000000    50.000000   \n",
       "\n",
       "               No2           Co           O3  \n",
       "count  8432.000000  8432.000000  8432.000000  \n",
       "mean     15.416509     0.606320    69.915441  \n",
       "std       7.428074     0.212071    26.651083  \n",
       "min       0.000000     0.000000     0.000000  \n",
       "25%      10.000000     0.470000    50.000000  \n",
       "50%      14.000000     0.590000    68.000000  \n",
       "75%      20.000000     0.710000    89.000000  \n",
       "max      54.000000     2.070000   163.000000  "
      ]
     },
     "execution_count": 3,
     "metadata": {},
     "output_type": "execute_result"
    }
   ],
   "source": [
    "data.describe()"
   ]
  },
  {
   "cell_type": "markdown",
   "id": "ce7a2fef",
   "metadata": {},
   "source": [
    "## 查看数据信息"
   ]
  },
  {
   "cell_type": "code",
   "execution_count": 4,
   "id": "478516e5",
   "metadata": {},
   "outputs": [
    {
     "name": "stdout",
     "output_type": "stream",
     "text": [
      "<class 'pandas.core.frame.DataFrame'>\n",
      "RangeIndex: 8432 entries, 0 to 8431\n",
      "Data columns (total 12 columns):\n",
      " #   Column   Non-Null Count  Dtype         \n",
      "---  ------   --------------  -----         \n",
      " 0   省        8432 non-null   object        \n",
      " 1   城市       8432 non-null   object        \n",
      " 2   日期       8432 non-null   datetime64[ns]\n",
      " 3   质量等级     8432 non-null   object        \n",
      " 4   AQI指数    8432 non-null   int64         \n",
      " 5   当天AQI排名  8432 non-null   int64         \n",
      " 6   PM2.5    8432 non-null   int64         \n",
      " 7   PM10     8432 non-null   int64         \n",
      " 8   So2      8432 non-null   int64         \n",
      " 9   No2      8432 non-null   int64         \n",
      " 10  Co       8432 non-null   float64       \n",
      " 11  O3       8432 non-null   int64         \n",
      "dtypes: datetime64[ns](1), float64(1), int64(7), object(3)\n",
      "memory usage: 790.6+ KB\n"
     ]
    }
   ],
   "source": [
    "data.info()#可以检查是否有缺失"
   ]
  },
  {
   "cell_type": "markdown",
   "id": "1dc62de1",
   "metadata": {},
   "source": [
    "## 查看重复数据"
   ]
  },
  {
   "cell_type": "code",
   "execution_count": 5,
   "id": "f4e6bdcb",
   "metadata": {},
   "outputs": [
    {
     "data": {
      "text/plain": [
       "0"
      ]
     },
     "execution_count": 5,
     "metadata": {},
     "output_type": "execute_result"
    }
   ],
   "source": [
    "data.duplicated().sum()"
   ]
  },
  {
   "cell_type": "markdown",
   "id": "811fddc7",
   "metadata": {},
   "source": [
    "# 数据探索可视化\n",
    "+ 前期"
   ]
  },
  {
   "cell_type": "code",
   "execution_count": 6,
   "id": "aea62427",
   "metadata": {},
   "outputs": [
    {
     "data": {
      "text/plain": [
       "0      2021-08-01\n",
       "1      2021-08-02\n",
       "2      2021-08-03\n",
       "3      2021-08-04\n",
       "4      2021-08-05\n",
       "          ...    \n",
       "8427   2021-08-27\n",
       "8428   2021-08-28\n",
       "8429   2021-08-29\n",
       "8430   2021-08-30\n",
       "8431   2021-08-31\n",
       "Name: 日期, Length: 8432, dtype: datetime64[ns]"
      ]
     },
     "execution_count": 6,
     "metadata": {},
     "output_type": "execute_result"
    }
   ],
   "source": [
    "#日期转成时间格式\n",
    "data['日期']=pd.to_datetime(data['日期'])\n",
    "data['日期']"
   ]
  },
  {
   "cell_type": "code",
   "execution_count": 7,
   "id": "d3990aac",
   "metadata": {},
   "outputs": [
    {
     "data": {
      "text/plain": [
       "(Timestamp('2021-08-01 00:00:00'), Timestamp('2021-08-31 00:00:00'))"
      ]
     },
     "execution_count": 7,
     "metadata": {},
     "output_type": "execute_result"
    }
   ],
   "source": [
    "#查看时间长度\n",
    "data['日期'].min(),data['日期'].max()"
   ]
  },
  {
   "cell_type": "markdown",
   "id": "cdcee366",
   "metadata": {},
   "source": [
    "## 一天的天气污染物占比可视化\n",
    "+ 以武汉城市为例"
   ]
  },
  {
   "cell_type": "code",
   "execution_count": 8,
   "id": "7b9d1b69",
   "metadata": {},
   "outputs": [
    {
     "data": {
      "text/html": [
       "<div>\n",
       "<style scoped>\n",
       "    .dataframe tbody tr th:only-of-type {\n",
       "        vertical-align: middle;\n",
       "    }\n",
       "\n",
       "    .dataframe tbody tr th {\n",
       "        vertical-align: top;\n",
       "    }\n",
       "\n",
       "    .dataframe thead th {\n",
       "        text-align: right;\n",
       "    }\n",
       "</style>\n",
       "<table border=\"1\" class=\"dataframe\">\n",
       "  <thead>\n",
       "    <tr style=\"text-align: right;\">\n",
       "      <th></th>\n",
       "      <th>省</th>\n",
       "      <th>城市</th>\n",
       "      <th>日期</th>\n",
       "      <th>质量等级</th>\n",
       "      <th>AQI指数</th>\n",
       "      <th>当天AQI排名</th>\n",
       "      <th>PM2.5</th>\n",
       "      <th>PM10</th>\n",
       "      <th>So2</th>\n",
       "      <th>No2</th>\n",
       "      <th>Co</th>\n",
       "      <th>O3</th>\n",
       "    </tr>\n",
       "  </thead>\n",
       "  <tbody>\n",
       "    <tr>\n",
       "      <th>4309</th>\n",
       "      <td>湖北</td>\n",
       "      <td>武汉</td>\n",
       "      <td>2021-08-01</td>\n",
       "      <td>良</td>\n",
       "      <td>86</td>\n",
       "      <td>358</td>\n",
       "      <td>37</td>\n",
       "      <td>75</td>\n",
       "      <td>6</td>\n",
       "      <td>37</td>\n",
       "      <td>0.96</td>\n",
       "      <td>137</td>\n",
       "    </tr>\n",
       "  </tbody>\n",
       "</table>\n",
       "</div>"
      ],
      "text/plain": [
       "       省  城市         日期 质量等级  AQI指数  当天AQI排名  PM2.5  PM10  So2  No2    Co   O3\n",
       "4309  湖北  武汉 2021-08-01    良     86      358     37    75    6   37  0.96  137"
      ]
     },
     "execution_count": 8,
     "metadata": {},
     "output_type": "execute_result"
    }
   ],
   "source": [
    "index1=data['城市']=='武汉'\n",
    "index2=data['日期']=='2021-8-1'\n",
    "day_data=data[index1&index2]\n",
    "day_data"
   ]
  },
  {
   "cell_type": "code",
   "execution_count": 9,
   "id": "f18f5374",
   "metadata": {},
   "outputs": [],
   "source": [
    "pie_data=day_data.loc[:,'PM2.5':'O3'].values[0]#加一个0后减少一个括号，可以对比，实质是改变维度"
   ]
  },
  {
   "cell_type": "code",
   "execution_count": 10,
   "id": "a264a3a3",
   "metadata": {},
   "outputs": [
    {
     "data": {
      "text/plain": [
       "Text(0.5, 1.0, '{}{}空气污染物占比')"
      ]
     },
     "execution_count": 10,
     "metadata": {},
     "output_type": "execute_result"
    },
    {
     "data": {
      "image/png": "[encoded data removed]",
      "text/plain": [
       "<Figure size 432x288 with 1 Axes>"
      ]
     },
     "metadata": {},
     "output_type": "display_data"
    }
   ],
   "source": [
    "plt.pie(pie_data,\n",
    "       labels=day_data.loc[:,'PM2.5':'O3'].columns)\n",
    "plt.title('{}{}空气污染物占比')"
   ]
  },
  {
   "cell_type": "markdown",
   "id": "49569606",
   "metadata": {},
   "source": [
    "### 封装函数"
   ]
  },
  {
   "cell_type": "code",
   "execution_count": 11,
   "id": "9d98882c",
   "metadata": {},
   "outputs": [
    {
     "data": {
      "image/png": "[encoded data removed]",
      "text/plain": [
       "<Figure size 432x288 with 1 Axes>"
      ]
     },
     "metadata": {},
     "output_type": "display_data"
    }
   ],
   "source": [
    "def oneDayPie(city,date):\n",
    "    index1=data['城市']==city\n",
    "    index2=data['日期']==date\n",
    "    day_data=data[index1&index2]\n",
    "    pie_data=day_data.loc[:,'PM2.5':'O3'].values[0]\n",
    "    plt.pie(pie_data,\n",
    "       labels=day_data.loc[:,'PM2.5':'O3'].columns)\n",
    "    plt.title(f'{city}{date}空气污染物占比')\n",
    "oneDayPie('武汉','2021-8-3')#别忘了引号 "
   ]
  },
  {
   "cell_type": "markdown",
   "id": "ff513ead",
   "metadata": {},
   "source": [
    "## 某地一个月AQI数据变化可视化"
   ]
  },
  {
   "cell_type": "markdown",
   "id": "b1526904",
   "metadata": {},
   "source": [
    "### 以武汉为例\n",
    "+ 提取武汉一个月的数据"
   ]
  },
  {
   "cell_type": "code",
   "execution_count": 12,
   "id": "83bfab16",
   "metadata": {},
   "outputs": [
    {
     "data": {
      "text/plain": [
       "<matplotlib.legend.Legend at 0x1ebbcb968e0>"
      ]
     },
     "execution_count": 12,
     "metadata": {},
     "output_type": "execute_result"
    },
    {
     "data": {
      "image/png": "[encoded data removed]",
      "text/plain": [
       "<Figure size 432x288 with 2 Axes>"
      ]
     },
     "metadata": {
      "needs_background": "light"
     },
     "output_type": "display_data"
    }
   ],
   "source": [
    "index1=data['城市']=='武汉'\n",
    "month_data=data[index1]\n",
    "month_data['AQI指数']\n",
    "\n",
    "Fig=plt.figure()\n",
    "ax=Fig.add_subplot(1,1,1)\n",
    "ax.plot(month_data['AQI指数'],color='#fe3535',linestyle=':',label='指数')\n",
    "ax.set_ylabel('AQI指数')\n",
    "plt.xticks(month_data['AQI指数'].index.tolist(),[i+1 for i in range(31)])\n",
    "\n",
    "ax1=ax.twinx()#使用相同的x轴\n",
    "ax1.plot(month_data['当天AQI排名'],label='排名')\n",
    "ax1.set_ylabel('AQI排名')\n",
    "\n",
    "plt.legend(loc=1)"
   ]
  },
  {
   "cell_type": "markdown",
   "id": "eda845b8",
   "metadata": {},
   "source": [
    "## AQI排名前十的城市\n",
    "+ 标记AQI指数"
   ]
  },
  {
   "cell_type": "code",
   "execution_count": 13,
   "id": "b373d8cc",
   "metadata": {},
   "outputs": [
    {
     "data": {
      "text/plain": [
       "Text(0, 0.5, 'AQI指数')"
      ]
     },
     "execution_count": 13,
     "metadata": {},
     "output_type": "execute_result"
    },
    {
     "data": {
      "image/png": "[encoded data removed]",
      "text/plain": [
       "<Figure size 432x288 with 1 Axes>"
      ]
     },
     "metadata": {
      "needs_background": "light"
     },
     "output_type": "display_data"
    }
   ],
   "source": [
    "index1=data['日期']=='2021-8-16'\n",
    "AQI_data=data[index1]\n",
    "good_data=AQI_data.sort_values(by='当天AQI排名')[:8]\n",
    "plt.bar(np.arange(8),good_data['AQI指数'])\n",
    "for i in range(8):\n",
    "    plt.text(i,\n",
    "             good_data['AQI指数'].tolist()[i],\n",
    "            str(good_data['AQI指数'].tolist()[i]))\n",
    "plt.xticks(np.arange(8),good_data['城市'])\n",
    "plt.ylabel('AQI指数')\n",
    "#可以横向排列，bar前面加h即可，不过记得调换xy轴"
   ]
  },
  {
   "cell_type": "markdown",
   "id": "c0ba5f46",
   "metadata": {},
   "source": [
    "## 空气污染物分布情况"
   ]
  },
  {
   "cell_type": "code",
   "execution_count": 14,
   "id": "fddeca10",
   "metadata": {},
   "outputs": [
    {
     "data": {
      "text/plain": [
       "(array([5.649e+03, 2.518e+03, 2.130e+02, 3.100e+01, 1.100e+01, 4.000e+00,\n",
       "        0.000e+00, 2.000e+00, 0.000e+00, 2.000e+00, 1.000e+00, 0.000e+00,\n",
       "        0.000e+00, 0.000e+00, 0.000e+00, 0.000e+00, 0.000e+00, 0.000e+00,\n",
       "        0.000e+00, 1.000e+00]),\n",
       " array([  0.  ,  19.55,  39.1 ,  58.65,  78.2 ,  97.75, 117.3 , 136.85,\n",
       "        156.4 , 175.95, 195.5 , 215.05, 234.6 , 254.15, 273.7 , 293.25,\n",
       "        312.8 , 332.35, 351.9 , 371.45, 391.  ]),\n",
       " <BarContainer object of 20 artists>)"
      ]
     },
     "execution_count": 14,
     "metadata": {},
     "output_type": "execute_result"
    },
    {
     "data": {
      "image/png": "[encoded data removed]",
      "text/plain": [
       "<Figure size 432x288 with 1 Axes>"
      ]
     },
     "metadata": {
      "needs_background": "light"
     },
     "output_type": "display_data"
    }
   ],
   "source": [
    "plt.hist(data['PM2.5'].values,bins=20)#默认十个柱子#用bins修改柱子数量"
   ]
  },
  {
   "cell_type": "code",
   "execution_count": 15,
   "id": "c199f9e7",
   "metadata": {},
   "outputs": [
    {
     "data": {
      "image/png": "[encoded data removed]",
      "text/plain": [
       "<Figure size 576x288 with 6 Axes>"
      ]
     },
     "metadata": {
      "needs_background": "light"
     },
     "output_type": "display_data"
    }
   ],
   "source": [
    "fig=plt.figure(figsize=(8,4))\n",
    "for i,item in enumerate(data.loc[:,'PM2.5':'O3']):\n",
    "    fig.add_subplot(2,3,i+1)\n",
    "    plt.hist(data[item].values,bins=30)\n",
    "    plt.title(f'{item}分布情况')\n",
    "plt.suptitle('各种污染物的分布情况')\n",
    "plt.tight_layout()"
   ]
  },
  {
   "cell_type": "code",
   "execution_count": 16,
   "id": "babdfd48",
   "metadata": {},
   "outputs": [],
   "source": [
    "#做出的图要加说明（作业要求）"
   ]
  },
  {
   "cell_type": "markdown",
   "id": "55cf9a75",
   "metadata": {},
   "source": [
    "## 每一天全国污染物范围"
   ]
  },
  {
   "cell_type": "code",
   "execution_count": 43,
   "id": "75c958e1",
   "metadata": {},
   "outputs": [
    {
     "data": {
      "text/plain": [
       "Text(0.5, 1.0, '全国八月份O3变化情况')"
      ]
     },
     "execution_count": 43,
     "metadata": {},
     "output_type": "execute_result"
    },
    {
     "data": {
      "image/png": "[encoded data removed]",
      "text/plain": [
       "<Figure size 432x288 with 1 Axes>"
      ]
     },
     "metadata": {
      "needs_background": "light"
     },
     "output_type": "display_data"
    }
   ],
   "source": [
    "#先找到天的信息\n",
    "date_month=data['日期'].unique()\n",
    "#只保留到天\n",
    "date_month_label=[str(i).split('T')[0] for i in date_month]\n",
    "#提取一天的污染物数据\n",
    "dataooo=[data[data['日期']=='2021-8-31']['O3'].values]\n",
    "#提取每一天的污染物数据\n",
    "all_day_data=[data[data['日期']==d]['O3'].values for d in date_month]\n",
    "#画图\n",
    "plt.boxplot(all_day_data)\n",
    "plt.xticks(np.arange(1,32),date_month,rotation=90)#rotation用来给下面柱子转角度\n",
    "plt.title('全国八月份O3变化情况')"
   ]
  },
  {
   "cell_type": "markdown",
   "id": "58f21e9c",
   "metadata": {},
   "source": [
    "## 质量为优占比"
   ]
  },
  {
   "cell_type": "code",
   "execution_count": 28,
   "id": "447419d4",
   "metadata": {},
   "outputs": [
    {
     "data": {
      "text/plain": [
       "省\n",
       "西藏     1.000000\n",
       "海南     1.000000\n",
       "福建     0.996416\n",
       "广东     0.992556\n",
       "云南     0.976540\n",
       "贵州     0.972350\n",
       "吉林     0.971326\n",
       "黑龙江    0.963710\n",
       "江西     0.956012\n",
       "广西     0.955335\n",
       "浙江     0.933180\n",
       "青海     0.927419\n",
       "湖南     0.925558\n",
       "湖北     0.923077\n",
       "四川     0.891496\n",
       "辽宁     0.861290\n",
       "安徽     0.854839\n",
       "江苏     0.811414\n",
       "甘肃     0.806452\n",
       "陕西     0.761290\n",
       "宁夏     0.703226\n",
       "河南     0.701613\n",
       "内蒙古    0.686636\n",
       "山东     0.634409\n",
       "河北     0.630499\n",
       "新疆     0.529954\n",
       "山西     0.375367\n",
       "Name: 质量等级, dtype: float64"
      ]
     },
     "execution_count": 28,
     "metadata": {},
     "output_type": "execute_result"
    }
   ],
   "source": [
    "#先统计有多少条数据\n",
    "ans1=data.groupby('省')['质量等级'].count()\n",
    "#统计各省空气质量为优的数据\n",
    "def fun1(x):\n",
    "    return sum(x=='优')\n",
    "ans2=data.groupby('省')['质量等级'].apply(fun1)\n",
    "#计算天气为优的比例\n",
    "ans3=ans2/ans1\n",
    "ans3.sort_values(ascending=False,inplace=True)\n",
    "ans3"
   ]
  },
  {
   "cell_type": "code",
   "execution_count": 56,
   "id": "fdaeddd2",
   "metadata": {},
   "outputs": [
    {
     "data": {
      "text/plain": [
       "Text(0.5, 1.0, '空气质量为优的占比排行图')"
      ]
     },
     "execution_count": 56,
     "metadata": {},
     "output_type": "execute_result"
    },
    {
     "data": {
      "image/png": "[encoded data removed]",
      "text/plain": [
       "<Figure size 1008x432 with 1 Axes>"
      ]
     },
     "metadata": {
      "needs_background": "light"
     },
     "output_type": "display_data"
    }
   ],
   "source": [
    "fig=plt.figure(figsize=(14,6))\n",
    "plt.bar(ans3.index,#横轴\n",
    "       ans3,#纵轴\n",
    "       width=0.5#宽度\n",
    "       )\n",
    "plt.grid(\n",
    "linestyle='-.',\n",
    "linewidth=0.5,\n",
    "axis='y')\n",
    "plt.title('空气质量为优的占比排行图')"
   ]
  },
  {
   "cell_type": "markdown",
   "id": "3d3e9711",
   "metadata": {},
   "source": [
    "## 各省份空气不同质量等级的天数"
   ]
  },
  {
   "cell_type": "code",
   "execution_count": 69,
   "id": "998eae3d",
   "metadata": {},
   "outputs": [
    {
     "data": {
      "text/html": [
       "<div>\n",
       "<style scoped>\n",
       "    .dataframe tbody tr th:only-of-type {\n",
       "        vertical-align: middle;\n",
       "    }\n",
       "\n",
       "    .dataframe tbody tr th {\n",
       "        vertical-align: top;\n",
       "    }\n",
       "\n",
       "    .dataframe thead th {\n",
       "        text-align: right;\n",
       "    }\n",
       "</style>\n",
       "<table border=\"1\" class=\"dataframe\">\n",
       "  <thead>\n",
       "    <tr style=\"text-align: right;\">\n",
       "      <th>质量等级</th>\n",
       "      <th>严重污染</th>\n",
       "      <th>中度污染</th>\n",
       "      <th>优</th>\n",
       "      <th>良</th>\n",
       "      <th>轻度污染</th>\n",
       "      <th>重度污染</th>\n",
       "      <th>污染</th>\n",
       "    </tr>\n",
       "    <tr>\n",
       "      <th>省</th>\n",
       "      <th></th>\n",
       "      <th></th>\n",
       "      <th></th>\n",
       "      <th></th>\n",
       "      <th></th>\n",
       "      <th></th>\n",
       "      <th></th>\n",
       "    </tr>\n",
       "  </thead>\n",
       "  <tbody>\n",
       "    <tr>\n",
       "      <th>云南</th>\n",
       "      <td>0</td>\n",
       "      <td>0</td>\n",
       "      <td>333</td>\n",
       "      <td>8</td>\n",
       "      <td>0</td>\n",
       "      <td>0</td>\n",
       "      <td>0</td>\n",
       "    </tr>\n",
       "    <tr>\n",
       "      <th>内蒙古</th>\n",
       "      <td>0</td>\n",
       "      <td>1</td>\n",
       "      <td>149</td>\n",
       "      <td>65</td>\n",
       "      <td>2</td>\n",
       "      <td>0</td>\n",
       "      <td>2</td>\n",
       "    </tr>\n",
       "    <tr>\n",
       "      <th>吉林</th>\n",
       "      <td>0</td>\n",
       "      <td>0</td>\n",
       "      <td>271</td>\n",
       "      <td>8</td>\n",
       "      <td>0</td>\n",
       "      <td>0</td>\n",
       "      <td>0</td>\n",
       "    </tr>\n",
       "    <tr>\n",
       "      <th>四川</th>\n",
       "      <td>0</td>\n",
       "      <td>0</td>\n",
       "      <td>304</td>\n",
       "      <td>37</td>\n",
       "      <td>0</td>\n",
       "      <td>0</td>\n",
       "      <td>0</td>\n",
       "    </tr>\n",
       "    <tr>\n",
       "      <th>宁夏</th>\n",
       "      <td>0</td>\n",
       "      <td>0</td>\n",
       "      <td>109</td>\n",
       "      <td>46</td>\n",
       "      <td>0</td>\n",
       "      <td>0</td>\n",
       "      <td>0</td>\n",
       "    </tr>\n",
       "    <tr>\n",
       "      <th>安徽</th>\n",
       "      <td>0</td>\n",
       "      <td>0</td>\n",
       "      <td>318</td>\n",
       "      <td>54</td>\n",
       "      <td>0</td>\n",
       "      <td>0</td>\n",
       "      <td>0</td>\n",
       "    </tr>\n",
       "    <tr>\n",
       "      <th>山东</th>\n",
       "      <td>0</td>\n",
       "      <td>0</td>\n",
       "      <td>236</td>\n",
       "      <td>136</td>\n",
       "      <td>0</td>\n",
       "      <td>0</td>\n",
       "      <td>0</td>\n",
       "    </tr>\n",
       "    <tr>\n",
       "      <th>山西</th>\n",
       "      <td>0</td>\n",
       "      <td>0</td>\n",
       "      <td>128</td>\n",
       "      <td>212</td>\n",
       "      <td>1</td>\n",
       "      <td>0</td>\n",
       "      <td>1</td>\n",
       "    </tr>\n",
       "    <tr>\n",
       "      <th>广东</th>\n",
       "      <td>0</td>\n",
       "      <td>0</td>\n",
       "      <td>400</td>\n",
       "      <td>3</td>\n",
       "      <td>0</td>\n",
       "      <td>0</td>\n",
       "      <td>0</td>\n",
       "    </tr>\n",
       "    <tr>\n",
       "      <th>广西</th>\n",
       "      <td>0</td>\n",
       "      <td>0</td>\n",
       "      <td>385</td>\n",
       "      <td>18</td>\n",
       "      <td>0</td>\n",
       "      <td>0</td>\n",
       "      <td>0</td>\n",
       "    </tr>\n",
       "    <tr>\n",
       "      <th>新疆</th>\n",
       "      <td>5</td>\n",
       "      <td>9</td>\n",
       "      <td>115</td>\n",
       "      <td>74</td>\n",
       "      <td>13</td>\n",
       "      <td>1</td>\n",
       "      <td>20</td>\n",
       "    </tr>\n",
       "    <tr>\n",
       "      <th>江苏</th>\n",
       "      <td>0</td>\n",
       "      <td>0</td>\n",
       "      <td>327</td>\n",
       "      <td>76</td>\n",
       "      <td>0</td>\n",
       "      <td>0</td>\n",
       "      <td>0</td>\n",
       "    </tr>\n",
       "    <tr>\n",
       "      <th>江西</th>\n",
       "      <td>0</td>\n",
       "      <td>0</td>\n",
       "      <td>326</td>\n",
       "      <td>15</td>\n",
       "      <td>0</td>\n",
       "      <td>0</td>\n",
       "      <td>0</td>\n",
       "    </tr>\n",
       "    <tr>\n",
       "      <th>河北</th>\n",
       "      <td>0</td>\n",
       "      <td>0</td>\n",
       "      <td>215</td>\n",
       "      <td>126</td>\n",
       "      <td>0</td>\n",
       "      <td>0</td>\n",
       "      <td>0</td>\n",
       "    </tr>\n",
       "    <tr>\n",
       "      <th>河南</th>\n",
       "      <td>0</td>\n",
       "      <td>0</td>\n",
       "      <td>261</td>\n",
       "      <td>111</td>\n",
       "      <td>0</td>\n",
       "      <td>0</td>\n",
       "      <td>0</td>\n",
       "    </tr>\n",
       "    <tr>\n",
       "      <th>浙江</th>\n",
       "      <td>0</td>\n",
       "      <td>0</td>\n",
       "      <td>405</td>\n",
       "      <td>29</td>\n",
       "      <td>0</td>\n",
       "      <td>0</td>\n",
       "      <td>0</td>\n",
       "    </tr>\n",
       "    <tr>\n",
       "      <th>海南</th>\n",
       "      <td>0</td>\n",
       "      <td>0</td>\n",
       "      <td>62</td>\n",
       "      <td>0</td>\n",
       "      <td>0</td>\n",
       "      <td>0</td>\n",
       "      <td>0</td>\n",
       "    </tr>\n",
       "    <tr>\n",
       "      <th>湖北</th>\n",
       "      <td>0</td>\n",
       "      <td>0</td>\n",
       "      <td>372</td>\n",
       "      <td>31</td>\n",
       "      <td>0</td>\n",
       "      <td>0</td>\n",
       "      <td>0</td>\n",
       "    </tr>\n",
       "    <tr>\n",
       "      <th>湖南</th>\n",
       "      <td>0</td>\n",
       "      <td>0</td>\n",
       "      <td>373</td>\n",
       "      <td>30</td>\n",
       "      <td>0</td>\n",
       "      <td>0</td>\n",
       "      <td>0</td>\n",
       "    </tr>\n",
       "    <tr>\n",
       "      <th>甘肃</th>\n",
       "      <td>2</td>\n",
       "      <td>6</td>\n",
       "      <td>350</td>\n",
       "      <td>72</td>\n",
       "      <td>3</td>\n",
       "      <td>1</td>\n",
       "      <td>7</td>\n",
       "    </tr>\n",
       "    <tr>\n",
       "      <th>福建</th>\n",
       "      <td>0</td>\n",
       "      <td>0</td>\n",
       "      <td>278</td>\n",
       "      <td>1</td>\n",
       "      <td>0</td>\n",
       "      <td>0</td>\n",
       "      <td>0</td>\n",
       "    </tr>\n",
       "    <tr>\n",
       "      <th>西藏</th>\n",
       "      <td>0</td>\n",
       "      <td>0</td>\n",
       "      <td>186</td>\n",
       "      <td>0</td>\n",
       "      <td>0</td>\n",
       "      <td>0</td>\n",
       "      <td>0</td>\n",
       "    </tr>\n",
       "    <tr>\n",
       "      <th>贵州</th>\n",
       "      <td>0</td>\n",
       "      <td>0</td>\n",
       "      <td>211</td>\n",
       "      <td>6</td>\n",
       "      <td>0</td>\n",
       "      <td>0</td>\n",
       "      <td>0</td>\n",
       "    </tr>\n",
       "    <tr>\n",
       "      <th>辽宁</th>\n",
       "      <td>0</td>\n",
       "      <td>0</td>\n",
       "      <td>267</td>\n",
       "      <td>43</td>\n",
       "      <td>0</td>\n",
       "      <td>0</td>\n",
       "      <td>0</td>\n",
       "    </tr>\n",
       "    <tr>\n",
       "      <th>陕西</th>\n",
       "      <td>0</td>\n",
       "      <td>0</td>\n",
       "      <td>236</td>\n",
       "      <td>74</td>\n",
       "      <td>0</td>\n",
       "      <td>0</td>\n",
       "      <td>0</td>\n",
       "    </tr>\n",
       "    <tr>\n",
       "      <th>青海</th>\n",
       "      <td>0</td>\n",
       "      <td>0</td>\n",
       "      <td>230</td>\n",
       "      <td>18</td>\n",
       "      <td>0</td>\n",
       "      <td>0</td>\n",
       "      <td>0</td>\n",
       "    </tr>\n",
       "    <tr>\n",
       "      <th>黑龙江</th>\n",
       "      <td>0</td>\n",
       "      <td>0</td>\n",
       "      <td>239</td>\n",
       "      <td>8</td>\n",
       "      <td>1</td>\n",
       "      <td>0</td>\n",
       "      <td>1</td>\n",
       "    </tr>\n",
       "  </tbody>\n",
       "</table>\n",
       "</div>"
      ],
      "text/plain": [
       "质量等级  严重污染  中度污染    优    良  轻度污染  重度污染  污染\n",
       "省                                         \n",
       "云南       0     0  333    8     0     0   0\n",
       "内蒙古      0     1  149   65     2     0   2\n",
       "吉林       0     0  271    8     0     0   0\n",
       "四川       0     0  304   37     0     0   0\n",
       "宁夏       0     0  109   46     0     0   0\n",
       "安徽       0     0  318   54     0     0   0\n",
       "山东       0     0  236  136     0     0   0\n",
       "山西       0     0  128  212     1     0   1\n",
       "广东       0     0  400    3     0     0   0\n",
       "广西       0     0  385   18     0     0   0\n",
       "新疆       5     9  115   74    13     1  20\n",
       "江苏       0     0  327   76     0     0   0\n",
       "江西       0     0  326   15     0     0   0\n",
       "河北       0     0  215  126     0     0   0\n",
       "河南       0     0  261  111     0     0   0\n",
       "浙江       0     0  405   29     0     0   0\n",
       "海南       0     0   62    0     0     0   0\n",
       "湖北       0     0  372   31     0     0   0\n",
       "湖南       0     0  373   30     0     0   0\n",
       "甘肃       2     6  350   72     3     1   7\n",
       "福建       0     0  278    1     0     0   0\n",
       "西藏       0     0  186    0     0     0   0\n",
       "贵州       0     0  211    6     0     0   0\n",
       "辽宁       0     0  267   43     0     0   0\n",
       "陕西       0     0  236   74     0     0   0\n",
       "青海       0     0  230   18     0     0   0\n",
       "黑龙江      0     0  239    8     1     0   1"
      ]
     },
     "execution_count": 69,
     "metadata": {},
     "output_type": "execute_result"
    }
   ],
   "source": [
    "ans4=pd.pivot_table(data,\n",
    "              index='省',\n",
    "              columns='质量等级',\n",
    "              values='AQI指数',\n",
    "              aggfunc='count',\n",
    "              fill_value=0)\n",
    "#把有污染的天数合并\n",
    "ans4['污染']=ans4[['严重污染','重度污染','轻度污染','重度污染']].sum(axis=1)\n",
    "ans4"
   ]
  },
  {
   "cell_type": "code",
   "execution_count": 88,
   "id": "288d7e4b",
   "metadata": {},
   "outputs": [
    {
     "data": {
      "text/plain": [
       "<BarContainer object of 27 artists>"
      ]
     },
     "execution_count": 88,
     "metadata": {},
     "output_type": "execute_result"
    },
    {
     "data": {
      "image/png": "[encoded data removed]",
      "text/plain": [
       "<Figure size 1440x288 with 1 Axes>"
      ]
     },
     "metadata": {
      "needs_background": "light"
     },
     "output_type": "display_data"
    }
   ],
   "source": [
    "fig=plt.figure(figsize=(20,4))\n",
    "plt.bar(\n",
    "    np.arange(27)-0.3,\n",
    "    ans4['优'],#柱子高度\n",
    "    width=0.3,\n",
    "    color='#2a915a')\n",
    "plt.bar(\n",
    "    np.arange(27)-0.1,\n",
    "    ans4['良'],\n",
    "    width=0.3,\n",
    "    color='#d7d755')\n",
    "plt.bar(\n",
    "    np.arange(27)+0.1,\n",
    "    ans4['污染'],\n",
    "    width=0.3)"
   ]
  }
 ],
 "metadata": {
  "kernelspec": {
   "display_name": "Python 3",
   "language": "python",
   "name": "python3"
  },
  "language_info": {
   "codemirror_mode": {
    "name": "ipython",
    "version": 3
   },
   "file_extension": ".py",
   "mimetype": "text/x-python",
   "name": "python",
   "nbconvert_exporter": "python",
   "pygments_lexer": "ipython3",
   "version": "3.8.8"
  },
  "toc": {
   "base_numbering": 1,
   "nav_menu": {},
   "number_sections": true,
   "sideBar": true,
   "skip_h1_title": false,
   "title_cell": "Table of Contents",
   "title_sidebar": "Contents",
   "toc_cell": false,
   "toc_position": {
    "height": "calc(100% - 180px)",
    "left": "10px",
    "top": "150px",
    "width": "165px"
   },
   "toc_section_display": true,
   "toc_window_display": true
  }
 },
 "nbformat": 4,
 "nbformat_minor": 5
}
