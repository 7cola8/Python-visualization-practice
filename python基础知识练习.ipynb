{
 "cells": [
  {
   "cell_type": "markdown",
   "id": "f1a019c8",
   "metadata": {},
   "source": [
    "# day1上午"
   ]
  },
  {
   "cell_type": "markdown",
   "id": "3de931c6",
   "metadata": {},
   "source": [
    "## 初识jupyter"
   ]
  },
  {
   "cell_type": "code",
   "execution_count": 1,
   "id": "3ea25fdc",
   "metadata": {},
   "outputs": [],
   "source": [
    "1+2"
   ]
  },
  {
   "cell_type": "code",
   "execution_count": 2,
   "id": "2d015d39",
   "metadata": {},
   "outputs": [],
   "source": [
    "print(\"hello,world\")"
   ]
  },
  {
   "cell_type": "code",
   "execution_count": 3,
   "id": "712030f6",
   "metadata": {},
   "outputs": [
    {
     "name": "stdout",
     "output_type": "stream",
     "text": [
      "1\n"
     ]
    },
    {
     "data": {
      "text/plain": [
       "'1'"
      ]
     },
     "execution_count": 3,
     "metadata": {},
     "output_type": "execute_result"
    }
   ],
   "source": [
    "input()"
   ]
  },
  {
   "cell_type": "code",
   "execution_count": 4,
   "id": "bba3b869",
   "metadata": {},
   "outputs": [
    {
     "name": "stdout",
     "output_type": "stream",
     "text": [
      "张三客户，您好，您今年的收入是100元\n"
     ]
    }
   ],
   "source": [
    "print('{}客户，您好，您今年的收入是{}元'.format('张三',100))"
   ]
  },
  {
   "cell_type": "code",
   "execution_count": 5,
   "id": "ff27e457",
   "metadata": {},
   "outputs": [
    {
     "name": "stdout",
     "output_type": "stream",
     "text": [
      "张三客户，您好，您今年收入1.70元\n"
     ]
    }
   ],
   "source": [
    "print('张三客户，您好，您今年收入%.2f元'%1.7)"
   ]
  },
  {
   "cell_type": "markdown",
   "id": "350ca140",
   "metadata": {},
   "source": [
    "## 赋值"
   ]
  },
  {
   "cell_type": "code",
   "execution_count": 6,
   "id": "15666612",
   "metadata": {},
   "outputs": [],
   "source": [
    "a=1"
   ]
  },
  {
   "cell_type": "code",
   "execution_count": 7,
   "id": "678aaef2",
   "metadata": {},
   "outputs": [
    {
     "data": {
      "text/plain": [
       "1"
      ]
     },
     "execution_count": 7,
     "metadata": {},
     "output_type": "execute_result"
    }
   ],
   "source": [
    "a"
   ]
  },
  {
   "cell_type": "code",
   "execution_count": 8,
   "id": "ea87d83d",
   "metadata": {},
   "outputs": [],
   "source": [
    "a+=2"
   ]
  },
  {
   "cell_type": "code",
   "execution_count": 9,
   "id": "76cb332c",
   "metadata": {},
   "outputs": [
    {
     "data": {
      "text/plain": [
       "3"
      ]
     },
     "execution_count": 9,
     "metadata": {},
     "output_type": "execute_result"
    }
   ],
   "source": [
    "a"
   ]
  },
  {
   "cell_type": "code",
   "execution_count": 10,
   "id": "6a7da9e9",
   "metadata": {},
   "outputs": [],
   "source": [
    "import keyword"
   ]
  },
  {
   "cell_type": "code",
   "execution_count": 11,
   "id": "874e22e3",
   "metadata": {},
   "outputs": [
    {
     "data": {
      "text/plain": [
       "['False',\n",
       " 'None',\n",
       " 'True',\n",
       " 'and',\n",
       " 'as',\n",
       " 'assert',\n",
       " 'async',\n",
       " 'await',\n",
       " 'break',\n",
       " 'class',\n",
       " 'continue',\n",
       " 'def',\n",
       " 'del',\n",
       " 'elif',\n",
       " 'else',\n",
       " 'except',\n",
       " 'finally',\n",
       " 'for',\n",
       " 'from',\n",
       " 'global',\n",
       " 'if',\n",
       " 'import',\n",
       " 'in',\n",
       " 'is',\n",
       " 'lambda',\n",
       " 'nonlocal',\n",
       " 'not',\n",
       " 'or',\n",
       " 'pass',\n",
       " 'raise',\n",
       " 'return',\n",
       " 'try',\n",
       " 'while',\n",
       " 'with',\n",
       " 'yield']"
      ]
     },
     "execution_count": 11,
     "metadata": {},
     "output_type": "execute_result"
    }
   ],
   "source": [
    "keyword.kwlist#不能用的关键词"
   ]
  },
  {
   "cell_type": "code",
   "execution_count": 12,
   "id": "531c4cf7",
   "metadata": {},
   "outputs": [
    {
     "data": {
      "text/plain": [
       "True"
      ]
     },
     "execution_count": 12,
     "metadata": {},
     "output_type": "execute_result"
    }
   ],
   "source": [
    "bool(8)#除0以外都是true"
   ]
  },
  {
   "cell_type": "code",
   "execution_count": 13,
   "id": "1fcf19d5",
   "metadata": {},
   "outputs": [
    {
     "data": {
      "text/plain": [
       "'1'"
      ]
     },
     "execution_count": 13,
     "metadata": {},
     "output_type": "execute_result"
    }
   ],
   "source": [
    "str(1)#字符"
   ]
  },
  {
   "cell_type": "markdown",
   "id": "1a640d98",
   "metadata": {},
   "source": [
    "## 字符字符串"
   ]
  },
  {
   "cell_type": "code",
   "execution_count": 14,
   "id": "8dd0b796",
   "metadata": {},
   "outputs": [],
   "source": [
    "#切片左闭右开\n",
    "#步长为1"
   ]
  },
  {
   "cell_type": "code",
   "execution_count": 15,
   "id": "f5e12e56",
   "metadata": {},
   "outputs": [],
   "source": [
    "str1=('今天天气这么好！')"
   ]
  },
  {
   "cell_type": "code",
   "execution_count": 16,
   "id": "436b8d49",
   "metadata": {},
   "outputs": [
    {
     "data": {
      "text/plain": [
       "'天气'"
      ]
     },
     "execution_count": 16,
     "metadata": {},
     "output_type": "execute_result"
    }
   ],
   "source": [
    "str1[2:4]"
   ]
  },
  {
   "cell_type": "code",
   "execution_count": 17,
   "id": "1f21c82b",
   "metadata": {},
   "outputs": [
    {
     "data": {
      "text/plain": [
       "'气这么好'"
      ]
     },
     "execution_count": 17,
     "metadata": {},
     "output_type": "execute_result"
    }
   ],
   "source": [
    "str1[-5:-1]"
   ]
  },
  {
   "cell_type": "code",
   "execution_count": 18,
   "id": "7fca1420",
   "metadata": {},
   "outputs": [],
   "source": [
    "#起始值不写的话默认从0开始"
   ]
  },
  {
   "cell_type": "code",
   "execution_count": 19,
   "id": "44d27f6e",
   "metadata": {},
   "outputs": [],
   "source": [
    "#两个冒号代表取所有,再加个-1代表颠倒字符串,加其他数字代表指定间隔取字符串"
   ]
  },
  {
   "cell_type": "code",
   "execution_count": 20,
   "id": "2f00e516",
   "metadata": {},
   "outputs": [
    {
     "data": {
      "text/plain": [
       "'今天这好'"
      ]
     },
     "execution_count": 20,
     "metadata": {},
     "output_type": "execute_result"
    }
   ],
   "source": [
    "str1[::2]"
   ]
  },
  {
   "cell_type": "code",
   "execution_count": 21,
   "id": "3a1c2e13",
   "metadata": {},
   "outputs": [
    {
     "data": {
      "text/plain": [
       "'今天天气这么好！'"
      ]
     },
     "execution_count": 21,
     "metadata": {},
     "output_type": "execute_result"
    }
   ],
   "source": [
    "str1[::]"
   ]
  },
  {
   "cell_type": "code",
   "execution_count": 22,
   "id": "96faf587",
   "metadata": {},
   "outputs": [
    {
     "data": {
      "text/plain": [
       "'！好么这气天天今'"
      ]
     },
     "execution_count": 22,
     "metadata": {},
     "output_type": "execute_result"
    }
   ],
   "source": [
    "str1[::-1]"
   ]
  },
  {
   "cell_type": "code",
   "execution_count": 23,
   "id": "41eef02a",
   "metadata": {},
   "outputs": [
    {
     "data": {
      "text/plain": [
       "'今天天'"
      ]
     },
     "execution_count": 23,
     "metadata": {},
     "output_type": "execute_result"
    }
   ],
   "source": [
    "str1[:3]"
   ]
  },
  {
   "cell_type": "markdown",
   "id": "b7ab922b",
   "metadata": {},
   "source": [
    "# day1下午"
   ]
  },
  {
   "cell_type": "markdown",
   "id": "55308c8b",
   "metadata": {},
   "source": [
    "## 列表"
   ]
  },
  {
   "cell_type": "code",
   "execution_count": 24,
   "id": "f3765ca2",
   "metadata": {},
   "outputs": [],
   "source": [
    "#转义字符"
   ]
  },
  {
   "cell_type": "code",
   "execution_count": 25,
   "id": "164cc0df",
   "metadata": {},
   "outputs": [],
   "source": [
    "#列表套万物"
   ]
  },
  {
   "cell_type": "code",
   "execution_count": 26,
   "id": "1b99d1da",
   "metadata": {},
   "outputs": [],
   "source": [
    "list1=[1,2,3,4,5,'yes','😊',[1,2,3]]#注意list本身是有定义的，不能用"
   ]
  },
  {
   "cell_type": "code",
   "execution_count": 27,
   "id": "29662215",
   "metadata": {},
   "outputs": [
    {
     "data": {
      "text/plain": [
       "[1, 2, 3, 4, 5, 'yes', '😊', [1, 2, 3]]"
      ]
     },
     "execution_count": 27,
     "metadata": {},
     "output_type": "execute_result"
    }
   ],
   "source": [
    "list1"
   ]
  },
  {
   "cell_type": "code",
   "execution_count": 28,
   "id": "f9cc5295",
   "metadata": {},
   "outputs": [],
   "source": [
    "#insert 在指定位置前增加 pop 删除指定位置"
   ]
  },
  {
   "cell_type": "code",
   "execution_count": 29,
   "id": "716025d7",
   "metadata": {},
   "outputs": [],
   "source": [
    "list1.insert(0,'@')"
   ]
  },
  {
   "cell_type": "code",
   "execution_count": 30,
   "id": "6ca81f8c",
   "metadata": {},
   "outputs": [
    {
     "data": {
      "text/plain": [
       "['@', 1, 2, 3, 4, 5, 'yes', '😊', [1, 2, 3]]"
      ]
     },
     "execution_count": 30,
     "metadata": {},
     "output_type": "execute_result"
    }
   ],
   "source": [
    "list1"
   ]
  },
  {
   "cell_type": "code",
   "execution_count": 31,
   "id": "3d1b5a8e",
   "metadata": {},
   "outputs": [
    {
     "data": {
      "text/plain": [
       "['@', 1, 2, 3, 4, 5, '😊', [1, 2, 3]]"
      ]
     },
     "execution_count": 31,
     "metadata": {},
     "output_type": "execute_result"
    }
   ],
   "source": [
    "list1.pop(6)\n",
    "list1"
   ]
  },
  {
   "cell_type": "code",
   "execution_count": 32,
   "id": "5d5b3db6",
   "metadata": {},
   "outputs": [],
   "source": [
    "list1[0]='@_@'#修改指定元素"
   ]
  },
  {
   "cell_type": "code",
   "execution_count": 33,
   "id": "98df336c",
   "metadata": {},
   "outputs": [
    {
     "data": {
      "text/plain": [
       "['@_@', 1, 2, 3, 4, 5, '😊', [1, 2, 3]]"
      ]
     },
     "execution_count": 33,
     "metadata": {},
     "output_type": "execute_result"
    }
   ],
   "source": [
    "list1"
   ]
  },
  {
   "cell_type": "code",
   "execution_count": 34,
   "id": "f7b74395",
   "metadata": {},
   "outputs": [
    {
     "data": {
      "text/plain": [
       "6"
      ]
     },
     "execution_count": 34,
     "metadata": {},
     "output_type": "execute_result"
    }
   ],
   "source": [
    "list1.index('😊')#返回索引"
   ]
  },
  {
   "cell_type": "code",
   "execution_count": 35,
   "id": "7df50adf",
   "metadata": {},
   "outputs": [
    {
     "data": {
      "text/plain": [
       "True"
      ]
     },
     "execution_count": 35,
     "metadata": {},
     "output_type": "execute_result"
    }
   ],
   "source": [
    "'😊' in list1"
   ]
  },
  {
   "cell_type": "code",
   "execution_count": 36,
   "id": "e8326391",
   "metadata": {},
   "outputs": [
    {
     "data": {
      "text/plain": [
       "['@_@',\n",
       " 1,\n",
       " 2,\n",
       " 3,\n",
       " 4,\n",
       " 5,\n",
       " '😊',\n",
       " [1, 2, 3],\n",
       " '@_@',\n",
       " 1,\n",
       " 2,\n",
       " 3,\n",
       " 4,\n",
       " 5,\n",
       " '😊',\n",
       " [1, 2, 3],\n",
       " '@_@',\n",
       " 1,\n",
       " 2,\n",
       " 3,\n",
       " 4,\n",
       " 5,\n",
       " '😊',\n",
       " [1, 2, 3],\n",
       " '@_@',\n",
       " 1,\n",
       " 2,\n",
       " 3,\n",
       " 4,\n",
       " 5,\n",
       " '😊',\n",
       " [1, 2, 3]]"
      ]
     },
     "execution_count": 36,
     "metadata": {},
     "output_type": "execute_result"
    }
   ],
   "source": [
    "list1*4"
   ]
  },
  {
   "cell_type": "code",
   "execution_count": 37,
   "id": "672752b7",
   "metadata": {},
   "outputs": [],
   "source": [
    "#jupyter只输出最后一行变量的值"
   ]
  },
  {
   "cell_type": "code",
   "execution_count": 38,
   "id": "07bdd20f",
   "metadata": {},
   "outputs": [
    {
     "data": {
      "text/plain": [
       "['@_@', 1, 2, 3, 4, 5, '😊', [1, 2, 3], '233333']"
      ]
     },
     "execution_count": 38,
     "metadata": {},
     "output_type": "execute_result"
    }
   ],
   "source": [
    "list1.append('233333')#末尾添加\n",
    "list1"
   ]
  },
  {
   "cell_type": "code",
   "execution_count": 39,
   "id": "ccc99893",
   "metadata": {},
   "outputs": [],
   "source": [
    "#pop指定所在位置元素删除，remove指定某一个元素删除(且只删除第一个匹配项)（如果有重复的话）"
   ]
  },
  {
   "cell_type": "code",
   "execution_count": 40,
   "id": "e5e6dc1a",
   "metadata": {},
   "outputs": [],
   "source": [
    "list1.remove('233333')"
   ]
  },
  {
   "cell_type": "code",
   "execution_count": 41,
   "id": "b3cdd07d",
   "metadata": {},
   "outputs": [
    {
     "data": {
      "text/plain": [
       "['@_@', 1, 2, 3, 4, 5, '😊', [1, 2, 3]]"
      ]
     },
     "execution_count": 41,
     "metadata": {},
     "output_type": "execute_result"
    }
   ],
   "source": [
    "list1"
   ]
  },
  {
   "cell_type": "code",
   "execution_count": 42,
   "id": "1d2fbbed",
   "metadata": {},
   "outputs": [],
   "source": [
    "list2=[1,2,3]"
   ]
  },
  {
   "cell_type": "code",
   "execution_count": 43,
   "id": "94e5e3be",
   "metadata": {},
   "outputs": [
    {
     "data": {
      "text/plain": [
       "['@_@', 1, 2, 3, 4, 5, '😊', [1, 2, 3], 1, 2, 3]"
      ]
     },
     "execution_count": 43,
     "metadata": {},
     "output_type": "execute_result"
    }
   ],
   "source": [
    "list1.extend(list2)\n",
    "list1"
   ]
  },
  {
   "cell_type": "code",
   "execution_count": 44,
   "id": "5997a6e8",
   "metadata": {},
   "outputs": [
    {
     "data": {
      "text/plain": [
       "['@_@', 1, 2, 3, 4, 5, '😊', 1, 2, 3]"
      ]
     },
     "execution_count": 44,
     "metadata": {},
     "output_type": "execute_result"
    }
   ],
   "source": [
    "list1.remove([1,2,3])\n",
    "list1"
   ]
  },
  {
   "cell_type": "markdown",
   "id": "72d669e0",
   "metadata": {},
   "source": [
    "## 元组"
   ]
  },
  {
   "cell_type": "code",
   "execution_count": 45,
   "id": "ff863187",
   "metadata": {},
   "outputs": [],
   "source": [
    "#元组，不可更改的列表，英文tuple"
   ]
  },
  {
   "cell_type": "code",
   "execution_count": 46,
   "id": "96a8c0c4",
   "metadata": {},
   "outputs": [],
   "source": [
    "#函数中用的多"
   ]
  },
  {
   "cell_type": "code",
   "execution_count": 47,
   "id": "8ffffbca",
   "metadata": {},
   "outputs": [
    {
     "data": {
      "text/plain": [
       "10"
      ]
     },
     "execution_count": 47,
     "metadata": {},
     "output_type": "execute_result"
    }
   ],
   "source": [
    "len(list1)"
   ]
  },
  {
   "cell_type": "markdown",
   "id": "3fde8462",
   "metadata": {},
   "source": [
    "## 集合"
   ]
  },
  {
   "cell_type": "code",
   "execution_count": 48,
   "id": "9dcb8f6d",
   "metadata": {},
   "outputs": [],
   "source": [
    "#唯一，无序，不可更改,{}或者set函数创建"
   ]
  },
  {
   "cell_type": "code",
   "execution_count": 49,
   "id": "92bcf866",
   "metadata": {},
   "outputs": [],
   "source": [
    "#列表里面没有列表才能套进集合"
   ]
  },
  {
   "cell_type": "code",
   "execution_count": 50,
   "id": "d45b46f3",
   "metadata": {},
   "outputs": [
    {
     "data": {
      "text/plain": [
       "{1, 2, 3, 4, 5, '@_@', '😊'}"
      ]
     },
     "execution_count": 50,
     "metadata": {},
     "output_type": "execute_result"
    }
   ],
   "source": [
    "set1=set(list1)\n",
    "set1"
   ]
  },
  {
   "cell_type": "code",
   "execution_count": 51,
   "id": "00a2fa7e",
   "metadata": {},
   "outputs": [
    {
     "data": {
      "text/plain": [
       "{1, 2, 3}"
      ]
     },
     "execution_count": 51,
     "metadata": {},
     "output_type": "execute_result"
    }
   ],
   "source": [
    "set2={1,2,3}\n",
    "set2"
   ]
  },
  {
   "cell_type": "markdown",
   "id": "595eb279",
   "metadata": {},
   "source": [
    "### 集合运算"
   ]
  },
  {
   "cell_type": "code",
   "execution_count": 52,
   "id": "36c4ca60",
   "metadata": {},
   "outputs": [],
   "source": [
    "#交集& 并集|"
   ]
  },
  {
   "cell_type": "code",
   "execution_count": 53,
   "id": "108d7bfe",
   "metadata": {},
   "outputs": [],
   "source": [
    "#差集A-B B-A不同"
   ]
  },
  {
   "cell_type": "code",
   "execution_count": 54,
   "id": "17dee93c",
   "metadata": {},
   "outputs": [
    {
     "data": {
      "text/plain": [
       "{4, 5, '@_@', '😊'}"
      ]
     },
     "execution_count": 54,
     "metadata": {},
     "output_type": "execute_result"
    }
   ],
   "source": [
    "set1-set2#1减去里面和2一样的东西，主体为1"
   ]
  },
  {
   "cell_type": "code",
   "execution_count": 55,
   "id": "f0896620",
   "metadata": {},
   "outputs": [
    {
     "data": {
      "text/plain": [
       "set()"
      ]
     },
     "execution_count": 55,
     "metadata": {},
     "output_type": "execute_result"
    }
   ],
   "source": [
    "set2-set1#是空集，2减去里面和1一样的，什么都不剩了，因此是空集"
   ]
  },
  {
   "cell_type": "code",
   "execution_count": 56,
   "id": "f35183f3",
   "metadata": {},
   "outputs": [
    {
     "data": {
      "text/plain": [
       "set()"
      ]
     },
     "execution_count": 56,
     "metadata": {},
     "output_type": "execute_result"
    }
   ],
   "source": [
    "set2.difference(set1)#字面意义"
   ]
  },
  {
   "cell_type": "code",
   "execution_count": 57,
   "id": "e1bba745",
   "metadata": {},
   "outputs": [],
   "source": [
    "#异或运算,除A B共有元素以外的元素单位"
   ]
  },
  {
   "cell_type": "code",
   "execution_count": 58,
   "id": "8bfd131d",
   "metadata": {},
   "outputs": [
    {
     "data": {
      "text/plain": [
       "{4, 5, '@_@', '😊'}"
      ]
     },
     "execution_count": 58,
     "metadata": {},
     "output_type": "execute_result"
    }
   ],
   "source": [
    "set1.symmetric_difference(set2)"
   ]
  },
  {
   "cell_type": "markdown",
   "id": "263b1d09",
   "metadata": {},
   "source": [
    "### 集合操作"
   ]
  },
  {
   "cell_type": "code",
   "execution_count": 59,
   "id": "9e32d52e",
   "metadata": {},
   "outputs": [],
   "source": [
    "#元素可以更改"
   ]
  },
  {
   "cell_type": "code",
   "execution_count": 60,
   "id": "2d7a5f2b",
   "metadata": {},
   "outputs": [
    {
     "data": {
      "text/plain": [
       "{1, 2, 3, 5}"
      ]
     },
     "execution_count": 60,
     "metadata": {},
     "output_type": "execute_result"
    }
   ],
   "source": [
    "set2.add(5)#增加一个元素\n",
    "set2"
   ]
  },
  {
   "cell_type": "code",
   "execution_count": 61,
   "id": "1c9187ae",
   "metadata": {},
   "outputs": [],
   "source": [
    "set1.update(set2)#合并集合，增加一个集合"
   ]
  },
  {
   "cell_type": "code",
   "execution_count": 62,
   "id": "0d486a0f",
   "metadata": {},
   "outputs": [
    {
     "data": {
      "text/plain": [
       "{1, 2, 3, 4, 5, '@_@', '😊'}"
      ]
     },
     "execution_count": 62,
     "metadata": {},
     "output_type": "execute_result"
    }
   ],
   "source": [
    "set1"
   ]
  },
  {
   "cell_type": "code",
   "execution_count": 63,
   "id": "efaa4bc2",
   "metadata": {},
   "outputs": [],
   "source": [
    "#删除元素"
   ]
  },
  {
   "cell_type": "code",
   "execution_count": 64,
   "id": "06853a16",
   "metadata": {},
   "outputs": [],
   "source": [
    "set1.remove('😊')#有元素就删除，没元素就报错"
   ]
  },
  {
   "cell_type": "code",
   "execution_count": 65,
   "id": "9b9db963",
   "metadata": {},
   "outputs": [
    {
     "data": {
      "text/plain": [
       "{1, 2, 3, 4, 5, '@_@'}"
      ]
     },
     "execution_count": 65,
     "metadata": {},
     "output_type": "execute_result"
    }
   ],
   "source": [
    "set1"
   ]
  },
  {
   "cell_type": "code",
   "execution_count": 66,
   "id": "4a9e04e9",
   "metadata": {},
   "outputs": [],
   "source": [
    "#pop随机删除"
   ]
  },
  {
   "cell_type": "code",
   "execution_count": 67,
   "id": "f6772bf1",
   "metadata": {},
   "outputs": [
    {
     "data": {
      "text/plain": [
       "1"
      ]
     },
     "execution_count": 67,
     "metadata": {},
     "output_type": "execute_result"
    }
   ],
   "source": [
    "set1.pop()"
   ]
  },
  {
   "cell_type": "code",
   "execution_count": 68,
   "id": "620298d7",
   "metadata": {},
   "outputs": [
    {
     "data": {
      "text/plain": [
       "{2, 3, 4, 5, '@_@'}"
      ]
     },
     "execution_count": 68,
     "metadata": {},
     "output_type": "execute_result"
    }
   ],
   "source": [
    "set1"
   ]
  },
  {
   "cell_type": "code",
   "execution_count": 69,
   "id": "185f62f5",
   "metadata": {},
   "outputs": [],
   "source": [
    "#删除指定，没有不动"
   ]
  },
  {
   "cell_type": "code",
   "execution_count": 70,
   "id": "9bcf88be",
   "metadata": {},
   "outputs": [],
   "source": [
    "set1.discard(2)#最推荐(๑•̀ㅂ•́)و✧"
   ]
  },
  {
   "cell_type": "code",
   "execution_count": 71,
   "id": "7eeda079",
   "metadata": {},
   "outputs": [
    {
     "data": {
      "text/plain": [
       "{3, 4, 5, '@_@'}"
      ]
     },
     "execution_count": 71,
     "metadata": {},
     "output_type": "execute_result"
    }
   ],
   "source": [
    "set1"
   ]
  },
  {
   "cell_type": "markdown",
   "id": "2ff3a415",
   "metadata": {},
   "source": [
    "## 字典"
   ]
  },
  {
   "cell_type": "code",
   "execution_count": 72,
   "id": "04b9c712",
   "metadata": {},
   "outputs": [],
   "source": [
    "#集合的映射，{}表示，dict也可以，(：前面叫键，后面叫值)"
   ]
  },
  {
   "cell_type": "code",
   "execution_count": 73,
   "id": "41131ce0",
   "metadata": {},
   "outputs": [
    {
     "data": {
      "text/plain": [
       "{'name': 'dl', 'job': '划水'}"
      ]
     },
     "execution_count": 73,
     "metadata": {},
     "output_type": "execute_result"
    }
   ],
   "source": [
    "dict1={'name':'dl','job':'划水'}#键唯一，值可以重复\n",
    "dict1"
   ]
  },
  {
   "cell_type": "code",
   "execution_count": 74,
   "id": "b9db9554",
   "metadata": {},
   "outputs": [
    {
     "data": {
      "text/plain": [
       "{'year': '18'}"
      ]
     },
     "execution_count": 74,
     "metadata": {},
     "output_type": "execute_result"
    }
   ],
   "source": [
    "dict2={'year':'18'}\n",
    "dict2"
   ]
  },
  {
   "cell_type": "code",
   "execution_count": 75,
   "id": "d7acaffc",
   "metadata": {},
   "outputs": [],
   "source": [
    "#update增加 pop(键)即可删除一对"
   ]
  },
  {
   "cell_type": "code",
   "execution_count": 76,
   "id": "46a30104",
   "metadata": {},
   "outputs": [
    {
     "data": {
      "text/plain": [
       "{'name': 'dl', 'job': '教书'}"
      ]
     },
     "execution_count": 76,
     "metadata": {},
     "output_type": "execute_result"
    }
   ],
   "source": [
    "dict1['job']='教书'#方括号表修改\n",
    "dict1"
   ]
  },
  {
   "cell_type": "code",
   "execution_count": 77,
   "id": "5863daa1",
   "metadata": {},
   "outputs": [
    {
     "data": {
      "text/plain": [
       "{'name': 'dl', 'job': '教书', '4': '8'}"
      ]
     },
     "execution_count": 77,
     "metadata": {},
     "output_type": "execute_result"
    }
   ],
   "source": [
    "dict1.update({'4':'8'})\n",
    "dict1"
   ]
  },
  {
   "cell_type": "code",
   "execution_count": 78,
   "id": "737a8634",
   "metadata": {},
   "outputs": [
    {
     "data": {
      "text/plain": [
       "True"
      ]
     },
     "execution_count": 78,
     "metadata": {},
     "output_type": "execute_result"
    }
   ],
   "source": [
    "'name' in dict1#仅判断键，不涉及值"
   ]
  },
  {
   "cell_type": "code",
   "execution_count": 79,
   "id": "c64f4bbd",
   "metadata": {},
   "outputs": [
    {
     "data": {
      "text/plain": [
       "dict_keys(['name', 'job', '4'])"
      ]
     },
     "execution_count": 79,
     "metadata": {},
     "output_type": "execute_result"
    }
   ],
   "source": [
    "dict1.keys()#查看里面的键"
   ]
  },
  {
   "cell_type": "code",
   "execution_count": 80,
   "id": "8d8d8758",
   "metadata": {},
   "outputs": [
    {
     "data": {
      "text/plain": [
       "dict_values(['dl', '教书', '8'])"
      ]
     },
     "execution_count": 80,
     "metadata": {},
     "output_type": "execute_result"
    }
   ],
   "source": [
    "dict1.values()#查看值"
   ]
  },
  {
   "cell_type": "code",
   "execution_count": 81,
   "id": "997ed302",
   "metadata": {},
   "outputs": [
    {
     "data": {
      "text/plain": [
       "dict_items([('name', 'dl'), ('job', '教书'), ('4', '8')])"
      ]
     },
     "execution_count": 81,
     "metadata": {},
     "output_type": "execute_result"
    }
   ],
   "source": [
    "dict1.items()#查看键值对"
   ]
  },
  {
   "cell_type": "code",
   "execution_count": 82,
   "id": "534bad09",
   "metadata": {},
   "outputs": [
    {
     "data": {
      "text/plain": [
       "{2: 3, 4: 5}"
      ]
     },
     "execution_count": 82,
     "metadata": {},
     "output_type": "execute_result"
    }
   ],
   "source": [
    "dict([(2,3),(4,5)])#列表套元组可以直接转成字典"
   ]
  },
  {
   "cell_type": "markdown",
   "id": "b850bb3c",
   "metadata": {},
   "source": [
    "## 循环（for为主）"
   ]
  },
  {
   "cell_type": "code",
   "execution_count": 83,
   "id": "77eaaa7f",
   "metadata": {},
   "outputs": [
    {
     "name": "stdout",
     "output_type": "stream",
     "text": [
      "@_@\n",
      "1\n",
      "2\n",
      "3\n",
      "4\n",
      "5\n",
      "😊\n",
      "1\n",
      "2\n",
      "3\n"
     ]
    }
   ],
   "source": [
    "for var in list1:#将列表中元素输出,var是赋值变量\n",
    "    print(var)"
   ]
  },
  {
   "cell_type": "code",
   "execution_count": 84,
   "id": "9ac5d1bb",
   "metadata": {},
   "outputs": [
    {
     "name": "stdout",
     "output_type": "stream",
     "text": [
      "0\n",
      "1\n",
      "2\n"
     ]
    }
   ],
   "source": [
    "for i in range(3):#左闭右开,start默认为0，step默认为1\n",
    "    print(i)"
   ]
  },
  {
   "cell_type": "code",
   "execution_count": 85,
   "id": "21c470c4",
   "metadata": {},
   "outputs": [
    {
     "data": {
      "text/plain": [
       "'DDD'"
      ]
     },
     "execution_count": 85,
     "metadata": {},
     "output_type": "execute_result"
    }
   ],
   "source": [
    "'D'*3"
   ]
  },
  {
   "cell_type": "markdown",
   "id": "2436adce",
   "metadata": {},
   "source": [
    "### 练习"
   ]
  },
  {
   "cell_type": "code",
   "execution_count": 86,
   "id": "bbcd97b7",
   "metadata": {},
   "outputs": [],
   "source": [
    "#输出一个菱形"
   ]
  },
  {
   "cell_type": "code",
   "execution_count": 87,
   "id": "ef541e2b",
   "metadata": {},
   "outputs": [
    {
     "name": "stdout",
     "output_type": "stream",
     "text": [
      "   *\n",
      "  ***\n",
      " *****\n",
      "*******\n",
      " *****\n",
      "  ***\n",
      "   *\n"
     ]
    }
   ],
   "source": [
    "for i in range(3,-4,-1):#start,end,step\n",
    "    print(abs(i)*' '+(7-abs(i)*2)*'*')#只考虑了前面的空格，其实后面的空格没管，比c简单"
   ]
  },
  {
   "cell_type": "code",
   "execution_count": 88,
   "id": "cc1c789d",
   "metadata": {},
   "outputs": [],
   "source": [
    "#输出乘法口诀表"
   ]
  },
  {
   "cell_type": "code",
   "execution_count": 89,
   "id": "10db5c9f",
   "metadata": {},
   "outputs": [],
   "source": [
    "#生成一个等比数列，以列表的形式输出"
   ]
  },
  {
   "cell_type": "code",
   "execution_count": 90,
   "id": "b56e90a4",
   "metadata": {},
   "outputs": [
    {
     "name": "stdout",
     "output_type": "stream",
     "text": [
      "3\n",
      "6\n",
      "9\n",
      "12\n"
     ]
    }
   ],
   "source": [
    "for a in range(1,5,1):\n",
    "    print(a*3)#应该不太对"
   ]
  },
  {
   "cell_type": "code",
   "execution_count": 91,
   "id": "99223483",
   "metadata": {},
   "outputs": [
    {
     "data": {
      "text/plain": [
       "[2, 4, 8, 16, 32]"
      ]
     },
     "execution_count": 91,
     "metadata": {},
     "output_type": "execute_result"
    }
   ],
   "source": [
    "fb=2\n",
    "list2=[]\n",
    "for a in range (5):\n",
    "    list2.append(fb)#append指列表末尾添加一个数\n",
    "    fb*=2\n",
    "\n",
    "list2"
   ]
  },
  {
   "cell_type": "code",
   "execution_count": 92,
   "id": "61a82d42",
   "metadata": {},
   "outputs": [
    {
     "name": "stdout",
     "output_type": "stream",
     "text": [
      "['@_@', 1, 2, 3, 4, 5, '😊', 1, 2, 3]\n",
      "['@_@', 1, 2, 3, 4, 5, '😊', 1, 2, 3]\n",
      "['@_@', 1, 2, 3, 4, 5, '😊', 1, 2, 3]\n",
      "['@_@', 1, 2, 3, 4, 5, '😊', 1, 2, 3]\n",
      "['@_@', 1, 2, 3, 4, 5, '😊', 1, 2, 3]\n",
      "['@_@', 1, 2, 3, 4, 5, '😊', 1, 2, 3]\n",
      "['@_@', 1, 2, 3, 4, 5, '😊', 1, 2, 3]\n",
      "['@_@', 1, 2, 3, 4, 5, '😊', 1, 2, 3]\n",
      "['@_@', 1, 2, 3, 4, 5, '😊', 1, 2, 3]\n",
      "['@_@', 1, 2, 3, 4, 5, '😊', 1, 2, 3]\n"
     ]
    }
   ],
   "source": [
    "for i,item in enumerate(list1):\n",
    "    print(list1)"
   ]
  },
  {
   "cell_type": "markdown",
   "id": "b7d158dc",
   "metadata": {},
   "source": [
    "# day2上午"
   ]
  },
  {
   "cell_type": "markdown",
   "id": "25239741",
   "metadata": {},
   "source": [
    "## 循环(while为主)"
   ]
  },
  {
   "cell_type": "code",
   "execution_count": 93,
   "id": "4c94e329",
   "metadata": {},
   "outputs": [],
   "source": [
    "#循环体里面没有写语句会报错"
   ]
  },
  {
   "cell_type": "code",
   "execution_count": 94,
   "id": "ca8ea798",
   "metadata": {},
   "outputs": [],
   "source": [
    "#语句中可以用pass或...占位"
   ]
  },
  {
   "cell_type": "code",
   "execution_count": 95,
   "id": "8497780f",
   "metadata": {},
   "outputs": [
    {
     "ename": "SyntaxError",
     "evalue": "unexpected EOF while parsing (<ipython-input-95-aa82eeb25f1e>, line 1)",
     "output_type": "error",
     "traceback": [
      "\u001b[1;36m  File \u001b[1;32m\"<ipython-input-95-aa82eeb25f1e>\"\u001b[1;36m, line \u001b[1;32m1\u001b[0m\n\u001b[1;33m    for i in range(5):\u001b[0m\n\u001b[1;37m                      ^\u001b[0m\n\u001b[1;31mSyntaxError\u001b[0m\u001b[1;31m:\u001b[0m unexpected EOF while parsing\n"
     ]
    }
   ],
   "source": [
    "for i in range(5):"
   ]
  },
  {
   "cell_type": "code",
   "execution_count": null,
   "id": "55d50b56",
   "metadata": {},
   "outputs": [],
   "source": [
    "for i in range(5):\n",
    "    pass"
   ]
  },
  {
   "cell_type": "code",
   "execution_count": null,
   "id": "e7900664",
   "metadata": {},
   "outputs": [],
   "source": [
    "#while小心写到死循环，重启解决95%问题"
   ]
  },
  {
   "cell_type": "code",
   "execution_count": null,
   "id": "bf75182d",
   "metadata": {},
   "outputs": [],
   "source": [
    "#while ture:\n",
    "    #执行内容"
   ]
  },
  {
   "cell_type": "code",
   "execution_count": null,
   "id": "8d03e3f0",
   "metadata": {},
   "outputs": [],
   "source": [
    "a=0\n",
    "while a<5:\n",
    "    print(a)\n",
    "    a+=1"
   ]
  },
  {
   "cell_type": "markdown",
   "id": "7056a0a5",
   "metadata": {},
   "source": [
    "## 判断"
   ]
  },
  {
   "cell_type": "code",
   "execution_count": null,
   "id": "75124ee6",
   "metadata": {},
   "outputs": [],
   "source": [
    "if a==5:#单分支\n",
    "    print('a',a)"
   ]
  },
  {
   "cell_type": "code",
   "execution_count": null,
   "id": "fb36babc",
   "metadata": {},
   "outputs": [],
   "source": [
    "a=int(input('请输入一个整数：'))#这个int指的是数据类型为整数而不是强制类型转换\n",
    "if a<5:#双分支\n",
    "    print('小于5')\n",
    "else:\n",
    "    print('不小于5')"
   ]
  },
  {
   "cell_type": "code",
   "execution_count": null,
   "id": "8dd276ea",
   "metadata": {},
   "outputs": [],
   "source": [
    "#多分支\n",
    "#if\n",
    "#elif\n",
    "#else\n",
    "#和c类似"
   ]
  },
  {
   "cell_type": "markdown",
   "id": "ab3bac4d",
   "metadata": {},
   "source": [
    "### 练习\n",
    "百鸡买百钱（公鸡5文钱一只，母鸡3文钱一只，小鸡3只一文钱，\n",
    "#用100文钱买一百只鸡,其中公鸡，母鸡，小鸡都必须要有，问公鸡，母鸡，小鸡要买多少只刚好凑足100文钱。）"
   ]
  },
  {
   "cell_type": "code",
   "execution_count": null,
   "id": "7dbc029d",
   "metadata": {},
   "outputs": [],
   "source": [
    "for 公鸡 in range(1,19):\n",
    "    for 母鸡 in range(1,32):\n",
    "        #计算鸡的价钱，剩下的钱买小鸡\n",
    "        零钱=100-公鸡*5-母鸡*3\n",
    "        小鸡=零钱*3\n",
    "        #计算鸡的数,判断：满足100只鸡\n",
    "        if 小鸡>0 and 母鸡+小鸡+公鸡==100:\n",
    "            print('母鸡的个数为：',母鸡)\n",
    "            print('公鸡的个数为：',公鸡)\n",
    "            print('小鸡的个数为：',小鸡)\n",
    "            print('*'*24)"
   ]
  },
  {
   "cell_type": "code",
   "execution_count": null,
   "id": "95b5f60b",
   "metadata": {},
   "outputs": [],
   "source": [
    "#前面改进修改小鸡小于0时等情况；break终止；continue中止。"
   ]
  },
  {
   "cell_type": "code",
   "execution_count": null,
   "id": "8ddf7b85",
   "metadata": {},
   "outputs": [],
   "source": [
    "a=0\n",
    "while a>=0:\n",
    "    a+=1\n",
    "    if a>5:\n",
    "        break\n",
    "    print(a)"
   ]
  },
  {
   "cell_type": "code",
   "execution_count": null,
   "id": "400f918a",
   "metadata": {},
   "outputs": [],
   "source": [
    "a=0\n",
    "while a<=5:\n",
    "    a+=1\n",
    "    if a==3:\n",
    "        continue\n",
    "    print(a)"
   ]
  },
  {
   "cell_type": "markdown",
   "id": "95efcad8",
   "metadata": {},
   "source": [
    "## 列表推导式"
   ]
  },
  {
   "cell_type": "code",
   "execution_count": null,
   "id": "889825f3",
   "metadata": {},
   "outputs": [],
   "source": [
    "list1=[]\n",
    "for i in range(0,10,2):#标准写法\n",
    "    list1.append(i)\n",
    "list1"
   ]
  },
  {
   "cell_type": "code",
   "execution_count": null,
   "id": "46b6ac75",
   "metadata": {},
   "outputs": [],
   "source": [
    "list2=[i for i in range(0,10,2)]#简便写法\n",
    "list2"
   ]
  },
  {
   "cell_type": "code",
   "execution_count": null,
   "id": "07b79c03",
   "metadata": {},
   "outputs": [],
   "source": [
    "list3=[i**2 for i in range(1,10,2)]#两个**是多少次方的意思\n",
    "list3"
   ]
  },
  {
   "cell_type": "code",
   "execution_count": null,
   "id": "cd1e2066",
   "metadata": {},
   "outputs": [],
   "source": [
    "list4=[]\n",
    "for i in range(10):\n",
    "    if i%2==0:\n",
    "        list4.append(i)\n",
    "list4"
   ]
  },
  {
   "cell_type": "code",
   "execution_count": null,
   "id": "0f8e57e5",
   "metadata": {},
   "outputs": [],
   "source": [
    "list4=[i for i in range (10) if i%2==0]#简略写法，都可以直接放里面\n",
    "list4"
   ]
  },
  {
   "cell_type": "code",
   "execution_count": null,
   "id": "9c62226a",
   "metadata": {},
   "outputs": [],
   "source": [
    "#列表推导式可以用在字典上"
   ]
  },
  {
   "cell_type": "code",
   "execution_count": null,
   "id": "2ad6db00",
   "metadata": {},
   "outputs": [],
   "source": [
    "data=list('两只黄鹂鸣翠柳')\n",
    "data\n",
    "#文字：索引"
   ]
  },
  {
   "cell_type": "code",
   "execution_count": null,
   "id": "11824877",
   "metadata": {},
   "outputs": [],
   "source": [
    "#enumerrate是枚举的意思"
   ]
  },
  {
   "cell_type": "code",
   "execution_count": null,
   "id": "9cc2d7ed",
   "metadata": {},
   "outputs": [],
   "source": [
    "{i:item for item,i in enumerate(data)}#很常用,它会按顺序，第一个出现代表数字，第二个是其代表的字符"
   ]
  },
  {
   "cell_type": "markdown",
   "id": "cd577f65",
   "metadata": {},
   "source": [
    "## def函数"
   ]
  },
  {
   "cell_type": "code",
   "execution_count": null,
   "id": "811daa7e",
   "metadata": {},
   "outputs": [],
   "source": [
    "#def 函数名（参数表）：\n",
    "#函数语句\n",
    "#return 返回值(后续需要用到这个结果再写，不用就可以不写)"
   ]
  },
  {
   "cell_type": "code",
   "execution_count": null,
   "id": "905dd8c7",
   "metadata": {},
   "outputs": [],
   "source": [
    "def fun():\n",
    "    print('hello,world!')\n",
    "fun()"
   ]
  },
  {
   "cell_type": "code",
   "execution_count": null,
   "id": "5e7cf7ff",
   "metadata": {},
   "outputs": [],
   "source": [
    "def fun2():\n",
    "    str1=input()\n",
    "    print(str1,'你好')#打印出来就没有了，不在内存中保留"
   ]
  },
  {
   "cell_type": "code",
   "execution_count": null,
   "id": "46971f24",
   "metadata": {},
   "outputs": [],
   "source": [
    "a=fun2()\n",
    "a"
   ]
  },
  {
   "cell_type": "code",
   "execution_count": null,
   "id": "f5fa3569",
   "metadata": {},
   "outputs": [],
   "source": [
    "a#a前面没有返回值因此a的值返回为空"
   ]
  },
  {
   "cell_type": "code",
   "execution_count": null,
   "id": "b6657e4a",
   "metadata": {},
   "outputs": [],
   "source": [
    "def fun3():#加入返回值后a被赋值了\n",
    "    str1=input()\n",
    "    return str1+'你好'"
   ]
  },
  {
   "cell_type": "code",
   "execution_count": null,
   "id": "c89c835a",
   "metadata": {},
   "outputs": [],
   "source": [
    "a=fun3()"
   ]
  },
  {
   "cell_type": "code",
   "execution_count": null,
   "id": "39f0b583",
   "metadata": {},
   "outputs": [],
   "source": [
    "a"
   ]
  },
  {
   "cell_type": "markdown",
   "id": "0b9a163b",
   "metadata": {},
   "source": [
    "### 练习\n",
    "1.求一个数的平方乘以2减5    ****      2.求斐波拉切数列前n个"
   ]
  },
  {
   "cell_type": "code",
   "execution_count": 118,
   "id": "da40b26b",
   "metadata": {},
   "outputs": [],
   "source": [
    "def fun4(x):\n",
    "    return int(input())**2*2-5"
   ]
  },
  {
   "cell_type": "code",
   "execution_count": 119,
   "id": "ebda5b19",
   "metadata": {},
   "outputs": [
    {
     "name": "stdout",
     "output_type": "stream",
     "text": [
      "6\n"
     ]
    },
    {
     "data": {
      "text/plain": [
       "67"
      ]
     },
     "execution_count": 119,
     "metadata": {},
     "output_type": "execute_result"
    }
   ],
   "source": [
    "fun4()"
   ]
  },
  {
   "cell_type": "code",
   "execution_count": 110,
   "id": "c6c38806",
   "metadata": {},
   "outputs": [],
   "source": [
    "def fun5(x):\n",
    "    list1=[1,1]\n",
    "    for i in range(x-2):\n",
    "        list1.append(list1[-1]+list1[-2])\n",
    "    return list1"
   ]
  },
  {
   "cell_type": "code",
   "execution_count": 111,
   "id": "d8e93e63",
   "metadata": {},
   "outputs": [
    {
     "data": {
      "text/plain": [
       "[1, 1, 2, 3, 5]"
      ]
     },
     "execution_count": 111,
     "metadata": {},
     "output_type": "execute_result"
    }
   ],
   "source": [
    "fun5(5)"
   ]
  },
  {
   "cell_type": "code",
   "execution_count": 100,
   "id": "14727eab",
   "metadata": {},
   "outputs": [],
   "source": [
    "def fun6(x,y):\n",
    "    return x*2+y"
   ]
  },
  {
   "cell_type": "code",
   "execution_count": 101,
   "id": "f79ad929",
   "metadata": {},
   "outputs": [
    {
     "data": {
      "text/plain": [
       "11"
      ]
     },
     "execution_count": 101,
     "metadata": {},
     "output_type": "execute_result"
    }
   ],
   "source": [
    "fun6(4,3)"
   ]
  },
  {
   "cell_type": "code",
   "execution_count": 102,
   "id": "3e50ddc4",
   "metadata": {},
   "outputs": [
    {
     "data": {
      "text/plain": [
       "11"
      ]
     },
     "execution_count": 102,
     "metadata": {},
     "output_type": "execute_result"
    }
   ],
   "source": [
    "fun6(y=3,x=4)#固定了"
   ]
  },
  {
   "cell_type": "code",
   "execution_count": 145,
   "id": "e0007e93",
   "metadata": {},
   "outputs": [],
   "source": [
    "def fun7(x,school='武科大'):#有默认参数可以少输入数据\n",
    "    return f'{x}是{school}的学生'#f是格式化输出的一种形式\n",
    "#本人理解是，将{}中事先安放的x和school格式化成输入的格式和默认参数"
   ]
  },
  {
   "cell_type": "code",
   "execution_count": 142,
   "id": "bc9f37e7",
   "metadata": {},
   "outputs": [
    {
     "data": {
      "text/plain": [
       "'dl是武科大的学生'"
      ]
     },
     "execution_count": 142,
     "metadata": {},
     "output_type": "execute_result"
    }
   ],
   "source": [
    "fun7('dl')"
   ]
  },
  {
   "cell_type": "code",
   "execution_count": 146,
   "id": "3c97d3f8",
   "metadata": {},
   "outputs": [
    {
     "data": {
      "text/plain": [
       "'dl是家里蹲的学生'"
      ]
     },
     "execution_count": 146,
     "metadata": {},
     "output_type": "execute_result"
    }
   ],
   "source": [
    "fun7('dl','家里蹲')#修改默认参数，即对第二个进行重新定义"
   ]
  },
  {
   "cell_type": "code",
   "execution_count": 147,
   "id": "574c991a",
   "metadata": {},
   "outputs": [],
   "source": [
    "#将百钱买百鸡修改成函数形式,让钱的数量可以自由变化了"
   ]
  },
  {
   "cell_type": "code",
   "execution_count": 14,
   "id": "33533c53",
   "metadata": {},
   "outputs": [],
   "source": [
    "def mc(x=100):#注意首行缩进，按tap可以快捷缩进\n",
    "    for 公鸡 in range(1,x//5-1):\n",
    "        for 母鸡 in range(1,x//3-1):\n",
    "            零钱=x-公鸡*5-母鸡*3\n",
    "            小鸡=零钱*3\n",
    "            if 小鸡>0 and 母鸡+小鸡+公鸡==x:\n",
    "                print('母鸡的个数为：',母鸡)\n",
    "                print('公鸡的个数为：',公鸡)\n",
    "                print('小鸡的个数为：',小鸡)\n",
    "                print('*'*24)"
   ]
  },
  {
   "cell_type": "code",
   "execution_count": 13,
   "id": "43c68aaf",
   "metadata": {},
   "outputs": [
    {
     "name": "stdout",
     "output_type": "stream",
     "text": [
      "母鸡的个数为： 18\n",
      "公鸡的个数为： 4\n",
      "小鸡的个数为： 78\n",
      "************************\n",
      "母鸡的个数为： 11\n",
      "公鸡的个数为： 8\n",
      "小鸡的个数为： 81\n",
      "************************\n",
      "母鸡的个数为： 4\n",
      "公鸡的个数为： 12\n",
      "小鸡的个数为： 84\n",
      "************************\n"
     ]
    }
   ],
   "source": [
    "a=mc()\n",
    "a"
   ]
  },
  {
   "cell_type": "markdown",
   "id": "4715dcf7",
   "metadata": {},
   "source": [
    "# day2下午"
   ]
  },
  {
   "cell_type": "markdown",
   "id": "8e30faaa",
   "metadata": {},
   "source": [
    "## lambda函数"
   ]
  },
  {
   "cell_type": "code",
   "execution_count": 1,
   "id": "b725a24b",
   "metadata": {},
   "outputs": [],
   "source": [
    "#lambda 参数表：表达式"
   ]
  },
  {
   "cell_type": "code",
   "execution_count": 4,
   "id": "830dd52e",
   "metadata": {},
   "outputs": [],
   "source": [
    "fun8=lambda x:x**2*2-5#适用于表达式简单"
   ]
  },
  {
   "cell_type": "code",
   "execution_count": 3,
   "id": "3e479f07",
   "metadata": {},
   "outputs": [
    {
     "data": {
      "text/plain": [
       "27"
      ]
     },
     "execution_count": 3,
     "metadata": {},
     "output_type": "execute_result"
    }
   ],
   "source": [
    "fun8(4)"
   ]
  },
  {
   "cell_type": "code",
   "execution_count": 5,
   "id": "08566e74",
   "metadata": {},
   "outputs": [],
   "source": [
    "fun9=lambda x,y:x*2+y\n",
    "#函数名=lambda 参数1，参数2：函数表达式"
   ]
  },
  {
   "cell_type": "code",
   "execution_count": 6,
   "id": "80fa1bea",
   "metadata": {},
   "outputs": [
    {
     "data": {
      "text/plain": [
       "19"
      ]
     },
     "execution_count": 6,
     "metadata": {},
     "output_type": "execute_result"
    }
   ],
   "source": [
    "fun9(6,7)"
   ]
  },
  {
   "cell_type": "code",
   "execution_count": 10,
   "id": "d77cf7ca",
   "metadata": {},
   "outputs": [
    {
     "data": {
      "text/plain": [
       "'蝉姐yyds'"
      ]
     },
     "execution_count": 10,
     "metadata": {},
     "output_type": "execute_result"
    }
   ],
   "source": [
    "str1='杨修yyds'\n",
    "fun10=lambda x:x.replace('杨修','蝉姐')\n",
    "fun10(str1)"
   ]
  },
  {
   "cell_type": "markdown",
   "id": "e806ef05",
   "metadata": {},
   "source": [
    "## 类"
   ]
  },
  {
   "cell_type": "code",
   "execution_count": 52,
   "id": "ca82abb5",
   "metadata": {},
   "outputs": [],
   "source": [
    "class dog:#最有用，多学\n",
    "    def __init__(self,name,breed,year):#两个下划线，注意\n",
    "        self.name=name\n",
    "        self.breed=breed\n",
    "        self.year=year\n",
    "        \n",
    "    def get_year(self):\n",
    "        print(f'{self.name}这条狗{self.year}岁')\n",
    "        \n",
    "    def love_job(self,job):\n",
    "        print(f'{self.name}这条狗喜欢{job}')"
   ]
  },
  {
   "cell_type": "code",
   "execution_count": 47,
   "id": "89dc8083",
   "metadata": {},
   "outputs": [],
   "source": [
    "Mydog=dog('dog','边牧','1')"
   ]
  },
  {
   "cell_type": "code",
   "execution_count": 48,
   "id": "5b0729aa",
   "metadata": {},
   "outputs": [
    {
     "data": {
      "text/plain": [
       "'1'"
      ]
     },
     "execution_count": 48,
     "metadata": {},
     "output_type": "execute_result"
    }
   ],
   "source": [
    "Mydog.year"
   ]
  },
  {
   "cell_type": "code",
   "execution_count": 49,
   "id": "ec90d3c8",
   "metadata": {},
   "outputs": [
    {
     "name": "stdout",
     "output_type": "stream",
     "text": [
      "dog这条狗1岁\n"
     ]
    }
   ],
   "source": [
    "Mydog.get_year()"
   ]
  },
  {
   "cell_type": "code",
   "execution_count": 50,
   "id": "343bba49",
   "metadata": {},
   "outputs": [
    {
     "name": "stdout",
     "output_type": "stream",
     "text": [
      "dog这条狗喜欢上班\n"
     ]
    }
   ],
   "source": [
    "Mydog.love_job('上班')"
   ]
  },
  {
   "cell_type": "markdown",
   "id": "1fe14151",
   "metadata": {},
   "source": [
    "## 模块"
   ]
  },
  {
   "cell_type": "code",
   "execution_count": 53,
   "id": "ab84226e",
   "metadata": {},
   "outputs": [
    {
     "data": {
      "text/plain": [
       "0.7821940832569217"
      ]
     },
     "execution_count": 53,
     "metadata": {},
     "output_type": "execute_result"
    }
   ],
   "source": [
    "import random#生成随机数\n",
    "random.random()"
   ]
  },
  {
   "cell_type": "code",
   "execution_count": 54,
   "id": "f9da59a0",
   "metadata": {},
   "outputs": [
    {
     "data": {
      "text/plain": [
       "[<matplotlib.lines.Line2D at 0x279e444c460>]"
      ]
     },
     "execution_count": 54,
     "metadata": {},
     "output_type": "execute_result"
    },
    {
     "data": {
      "image/png": "[encoded data removed]",
      "text/plain": [
       "<Figure size 432x288 with 1 Axes>"
      ]
     },
     "metadata": {
      "needs_background": "light"
     },
     "output_type": "display_data"
    }
   ],
   "source": [
    "import matplotlib.pyplot as plt#画图\n",
    "plt.plot([1,2,3,5,1])"
   ]
  },
  {
   "cell_type": "code",
   "execution_count": 55,
   "id": "1674e8f0",
   "metadata": {},
   "outputs": [],
   "source": [
    "#python找相关库(第三方库），可以做各种东西，好厉害"
   ]
  },
  {
   "cell_type": "code",
   "execution_count": 1,
   "id": "134a206c",
   "metadata": {},
   "outputs": [],
   "source": [
    "#from 不确定导入多少就写import*会导入全部"
   ]
  },
  {
   "cell_type": "code",
   "execution_count": 1,
   "id": "0a8961ea",
   "metadata": {},
   "outputs": [],
   "source": [
    "#自己打包一个库，写入函数（File+download as+.py文件）再将文件存入要用的文件夹，之后就可以引用了"
   ]
  },
  {
   "cell_type": "code",
   "execution_count": 2,
   "id": "d2359d38",
   "metadata": {},
   "outputs": [],
   "source": [
    "#引用的形式参考study+Ku"
   ]
  }
 ],
 "metadata": {
  "kernelspec": {
   "display_name": "Python 3",
   "language": "python",
   "name": "python3"
  },
  "language_info": {
   "codemirror_mode": {
    "name": "ipython",
    "version": 3
   },
   "file_extension": ".py",
   "mimetype": "text/x-python",
   "name": "python",
   "nbconvert_exporter": "python",
   "pygments_lexer": "ipython3",
   "version": "3.8.8"
  },
  "toc": {
   "base_numbering": 1,
   "nav_menu": {},
   "number_sections": true,
   "sideBar": true,
   "skip_h1_title": false,
   "title_cell": "Table of Contents",
   "title_sidebar": "Contents",
   "toc_cell": false,
   "toc_position": {
    "height": "366.667px",
    "left": "945.91px",
    "top": "110.152px",
    "width": "164.977px"
   },
   "toc_section_display": true,
   "toc_window_display": true
  }
 },
 "nbformat": 4,
 "nbformat_minor": 5
}
